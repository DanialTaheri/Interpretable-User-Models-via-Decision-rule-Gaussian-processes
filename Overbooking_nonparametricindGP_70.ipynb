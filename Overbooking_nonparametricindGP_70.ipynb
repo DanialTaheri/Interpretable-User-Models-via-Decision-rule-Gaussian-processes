{
 "cells": [
  {
   "cell_type": "code",
   "execution_count": 1,
   "metadata": {},
   "outputs": [
    {
     "name": "stdout",
     "output_type": "stream",
     "text": [
      "(48, 1) (48, 1) (48, 1) (48, 1) (48, 1)\n"
     ]
    }
   ],
   "source": [
    "import pickle\n",
    "%load_ext autoreload\n",
    "%autoreload 2\n",
    "import sys\n",
    "import numpy as np\n",
    "import scipy\n",
    "import matplotlib\n",
    "import matplotlib.pyplot as plt\n",
    "from matplotlib import cm\n",
    "from mpl_toolkits.axes_grid1 import make_axes_locatable\n",
    "import matplotlib.gridspec as gridspec\n",
    "import seaborn as sns\n",
    "import argparse, os\n",
    "import gpflow\n",
    "from gpflow import kernels\n",
    "from likelihoods import *\n",
    "from data import *\n",
    "from models import MLSVGP, BASESVGP\n",
    "from meta_loop import meta_loop\n",
    "from main import MAIN\n",
    "from run_main import *\n",
    "import json\n",
    "from sklearn.model_selection import train_test_split\n",
    "import tensorflow as tf\n",
    "\n",
    "observation_train = pickle.load(open('Inventory_norm_train70.pickle', 'rb'))\n",
    "observation_test = pickle.load(open('Inventory_norm_test70.pickle', 'rb'))\n",
    "observation_train = np.log(observation_train)\n",
    "observation_test = np.log(observation_test)\n",
    "prices = pickle.load(open('ActualPrices.pickle', 'rb'))\n",
    "prices_random_train = prices[0 : observation_train.shape[1]].reshape(-1,1)\n",
    "prices_random_test = prices[observation_train.shape[1]+1 :].reshape(-1,1)\n",
    "C = np.array(pickle.load(open('LeasedSpace.pickle', 'rb')))\n",
    "ids_train = np.zeros((observation_train.shape[0], observation_train.shape[1]))\n",
    "ids_test = np.zeros((observation_test.shape[0], observation_test.shape[1]))\n",
    "\n",
    "\n",
    "capacity_train = np.zeros((observation_train.shape[0], observation_train.shape[1]))\n",
    "capacity_test = np.zeros((observation_test.shape[0], observation_test.shape[1]))\n",
    "\n",
    "actual_price_train = np.zeros((observation_train.shape[0], observation_train.shape[1]))\n",
    "actual_price_test = np.zeros((observation_test.shape[0], observation_test.shape[1]))\n",
    "\n",
    "for i in range(observation_train.shape[0]):\n",
    "    for j in range(observation_train.shape[1]):       \n",
    "        ids_train[i, j]= i\n",
    "        capacity_train[i, j] = C[i]\n",
    "        actual_price_train[i,j] = prices_random_train[j]\n",
    "        \n",
    "for i in range(observation_test.shape[0]):\n",
    "    for j in range(observation_test.shape[1]):       \n",
    "        ids_test[i, j]= i\n",
    "        capacity_test[i, j] = C[i]\n",
    "        actual_price_test[i,j] = prices_random_test[j]\n",
    "        \n",
    "prior_observation_train = observation_train[:, :-1].reshape(-1,1)\n",
    "prior_observation_test = np.concatenate((observation_train[:, -1:], observation_test[:, :-1]), axis =1).reshape(-1,1)\n",
    "\n",
    "\n",
    "actual_observation_train = observation_train[:, 1:].reshape(-1,1)\n",
    "actual_observation_test =  observation_test[:, :].reshape(-1,1)\n",
    "\n",
    "User_capacity_train = capacity_train[:, :-1].reshape(-1,1)\n",
    "User_capacity_test = np.concatenate((capacity_train[:, -1:], capacity_test[:, :-1]), axis =1).reshape(-1,1)\n",
    "\n",
    "P_train = actual_price_train[:, 1:].reshape(-1,1)\n",
    "P_test = actual_price_test[:, :].reshape(-1,1)\n",
    "\n",
    "actual_ids_train =  ids_train[:, :-1].reshape(-1,1)\n",
    "actual_ids_test =  ids_test.reshape(-1,1)\n",
    "print(prior_observation_test.shape, User_capacity_test.shape, P_test.shape , actual_observation_test.shape , actual_ids_test.shape)\n",
    "\n",
    "dataset_train= np.hstack((prior_observation_train, User_capacity_train, P_train , actual_observation_train , actual_ids_train))\n",
    "\n",
    "dataset_test= np.hstack((prior_observation_test, User_capacity_test, P_test , actual_observation_test , actual_ids_test))\n",
    "\n"
   ]
  },
  {
   "cell_type": "code",
   "execution_count": 2,
   "metadata": {},
   "outputs": [
    {
     "name": "stdout",
     "output_type": "stream",
     "text": [
      "WARNING:tensorflow:From /home/smohse3/anaconda3/envs/py36/lib/python3.6/site-packages/tensorflow/python/framework/op_def_library.py:263: colocate_with (from tensorflow.python.framework.ops) is deprecated and will be removed in a future version.\n",
      "Instructions for updating:\n",
      "Colocations handled automatically by placer.\n"
     ]
    },
    {
     "name": "stderr",
     "output_type": "stream",
     "text": [
      "WARNING:tensorflow:From /home/smohse3/anaconda3/envs/py36/lib/python3.6/site-packages/tensorflow/python/framework/op_def_library.py:263: colocate_with (from tensorflow.python.framework.ops) is deprecated and will be removed in a future version.\n",
      "Instructions for updating:\n",
      "Colocations handled automatically by placer.\n"
     ]
    },
    {
     "name": "stdout",
     "output_type": "stream",
     "text": [
      "WARNING:tensorflow:From /home/smohse3/anaconda3/envs/py36/lib/python3.6/site-packages/tensorflow/python/ops/math_ops.py:3066: to_int32 (from tensorflow.python.ops.math_ops) is deprecated and will be removed in a future version.\n",
      "Instructions for updating:\n",
      "Use tf.cast instead.\n"
     ]
    },
    {
     "name": "stderr",
     "output_type": "stream",
     "text": [
      "WARNING:tensorflow:From /home/smohse3/anaconda3/envs/py36/lib/python3.6/site-packages/tensorflow/python/ops/math_ops.py:3066: to_int32 (from tensorflow.python.ops.math_ops) is deprecated and will be removed in a future version.\n",
      "Instructions for updating:\n",
      "Use tf.cast instead.\n"
     ]
    },
    {
     "name": "stdout",
     "output_type": "stream",
     "text": [
      "INFO:tensorflow:Optimization terminated with:\n",
      "  Message: b'CONVERGENCE: REL_REDUCTION_OF_F_<=_FACTR*EPSMCH'\n",
      "  Objective function value: 36.757114\n",
      "  Number of iterations: 65\n",
      "  Number of functions evaluations: 73\n"
     ]
    },
    {
     "name": "stderr",
     "output_type": "stream",
     "text": [
      "INFO:tensorflow:Optimization terminated with:\n",
      "  Message: b'CONVERGENCE: REL_REDUCTION_OF_F_<=_FACTR*EPSMCH'\n",
      "  Objective function value: 36.757114\n",
      "  Number of iterations: 65\n",
      "  Number of functions evaluations: 73\n"
     ]
    },
    {
     "name": "stdout",
     "output_type": "stream",
     "text": [
      "INFO:tensorflow:Optimization terminated with:\n",
      "  Message: b'CONVERGENCE: REL_REDUCTION_OF_F_<=_FACTR*EPSMCH'\n",
      "  Objective function value: 36.757114\n",
      "  Number of iterations: 65\n",
      "  Number of functions evaluations: 73\n"
     ]
    },
    {
     "name": "stderr",
     "output_type": "stream",
     "text": [
      "INFO:tensorflow:Optimization terminated with:\n",
      "  Message: b'CONVERGENCE: REL_REDUCTION_OF_F_<=_FACTR*EPSMCH'\n",
      "  Objective function value: 36.757114\n",
      "  Number of iterations: 65\n",
      "  Number of functions evaluations: 73\n"
     ]
    },
    {
     "name": "stdout",
     "output_type": "stream",
     "text": [
      "INFO:tensorflow:Optimization terminated with:\n",
      "  Message: b'CONVERGENCE: REL_REDUCTION_OF_F_<=_FACTR*EPSMCH'\n",
      "  Objective function value: 36.757114\n",
      "  Number of iterations: 65\n",
      "  Number of functions evaluations: 73\n"
     ]
    },
    {
     "name": "stderr",
     "output_type": "stream",
     "text": [
      "INFO:tensorflow:Optimization terminated with:\n",
      "  Message: b'CONVERGENCE: REL_REDUCTION_OF_F_<=_FACTR*EPSMCH'\n",
      "  Objective function value: 36.757114\n",
      "  Number of iterations: 65\n",
      "  Number of functions evaluations: 73\n"
     ]
    },
    {
     "name": "stdout",
     "output_type": "stream",
     "text": [
      "INFO:tensorflow:Optimization terminated with:\n",
      "  Message: b'CONVERGENCE: REL_REDUCTION_OF_F_<=_FACTR*EPSMCH'\n",
      "  Objective function value: 36.757114\n",
      "  Number of iterations: 65\n",
      "  Number of functions evaluations: 73\n"
     ]
    },
    {
     "name": "stderr",
     "output_type": "stream",
     "text": [
      "INFO:tensorflow:Optimization terminated with:\n",
      "  Message: b'CONVERGENCE: REL_REDUCTION_OF_F_<=_FACTR*EPSMCH'\n",
      "  Objective function value: 36.757114\n",
      "  Number of iterations: 65\n",
      "  Number of functions evaluations: 73\n"
     ]
    },
    {
     "data": {
      "image/png": "[encoded data removed]",
      "text/plain": [
       "<Figure size 432x288 with 1 Axes>"
      ]
     },
     "metadata": {
      "needs_background": "light"
     },
     "output_type": "display_data"
    },
    {
     "data": {
      "image/png": "[encoded data removed]",
      "text/plain": [
       "<Figure size 432x288 with 1 Axes>"
      ]
     },
     "metadata": {
      "needs_background": "light"
     },
     "output_type": "display_data"
    },
    {
     "data": {
      "image/png": "[encoded data removed]",
      "text/plain": [
       "<Figure size 432x288 with 1 Axes>"
      ]
     },
     "metadata": {
      "needs_background": "light"
     },
     "output_type": "display_data"
    },
    {
     "data": {
      "image/png": "[encoded data removed]",
      "text/plain": [
       "<Figure size 432x288 with 1 Axes>"
      ]
     },
     "metadata": {
      "needs_background": "light"
     },
     "output_type": "display_data"
    }
   ],
   "source": [
    "import pickle\n",
    "num = 10\n",
    "N = observation_test.shape[0]\n",
    "M = observation_test.shape[1]\n",
    "n_Trials = 10000\n",
    "RMSerror_indGP = [] \n",
    "RMSerror = 0\n",
    "y_pred_GPind = np.zeros((n_Trials, N, M))\n",
    "experiment_path = \"Proportional inventory-experiments-Non_parametric_indGP learning/70/\"\n",
    "if not os.path.exists(experiment_path):\n",
    "    os.makedirs(experiment_path)\n",
    "opt_alpha =[]\n",
    "\n",
    "#for num in range(10,36, 5):\n",
    "for i in range(N):\n",
    "    inpt = []\n",
    "    outpt = []\n",
    "    for j in range(dataset_train.shape[0]):\n",
    "        if dataset_train[j, 4] == i:\n",
    "            inpt.append(dataset_train[j, :3])\n",
    "            outpt.append(dataset_train[j,3])\n",
    "\n",
    "    inpt_mu = np.mean(inpt, axis = 0)\n",
    "    inpt_std = np.std(inpt, axis = 0)\n",
    "    inpt_mu[1]= capacity_train[i, 0]\n",
    "    inpt_std[1] = 1\n",
    "    norm = lambda inp, mu, std: (inp - mu) / std\n",
    "    inpt_norm = [norm(inp, inpt_mu, inpt_std) for inp in inpt]\n",
    "    xx_train = np.array(inpt_norm)\n",
    "    #print(xx_train)\n",
    "\n",
    "\n",
    "    outpt_mu = np.mean(outpt, axis = 0)\n",
    "    outpt_std = np.std(outpt, axis = 0)\n",
    "    outpt_norm = [norm(outp, outpt_mu, outpt_std) for outp in outpt]\n",
    "    yy_train = np.array(outpt_norm).reshape(-1,1)\n",
    "    #print(yy_train.shape)\n",
    "    Z = xx_train[:num, :].copy()\n",
    "    kernel = gpflow.kernels.RBF(3)\n",
    "    likelihood = Gaussian()\n",
    "    m_svgp = gpflow.models.SVGP(xx_train, yy_train, kern=kernel, likelihood=likelihood, Z=Z)\n",
    "\n",
    "    opt = gpflow.train.ScipyOptimizer()\n",
    "    opt.minimize(m_svgp)\n",
    "##############################Test\n",
    "\n",
    "    xx_test= np.zeros((M,3))\n",
    "    for dim in range(M):\n",
    "        xx_test[dim,0] = observation_test[i, dim]\n",
    "        xx_test[dim,1] = capacity_test[i, dim]\n",
    "        xx_test[dim,2] = actual_price_test[i, dim]\n",
    "\n",
    "    xx_mu = np.mean(xx_test, axis = 0)\n",
    "    xx_std = np.std(xx_test, axis = 0)\n",
    "    xx_mu[1]= capacity_test[i, 0]\n",
    "    xx_std[1] = 1\n",
    "    for dim in range(3):\n",
    "        xx_test[:, dim] = (xx_test[:, dim]- xx_mu[dim])/xx_std[dim]\n",
    "\n",
    "\n",
    "\n",
    "    mean, var = m_svgp.predict_y(xx_test)\n",
    "    mean = mean * outpt_std + outpt_mu\n",
    "    var = var * outpt_std + outpt_mu\n",
    "    img_path = experiment_path + \"/num of inducing points {}/Users/\". format(num)\n",
    "    if not os.path.exists(img_path):\n",
    "        os.makedirs(img_path)\n",
    "\n",
    "    img_path = experiment_path + \"/num of inducing points {}/Users/\". format(num)\n",
    "    img_path += \"/img_user:{}.png\".format(i+1)\n",
    "\n",
    "    plt.figure()\n",
    "    plt.plot(actual_price_test[0, :], observation_test[i, :].reshape(-1,1), 'kx')    \n",
    "    plt.plot(actual_price_test[0, :], mean, '*')\n",
    "    plt.plot(actual_price_test[0, :], mean[:,0] - 2*np.sqrt(var[:,0]), 'bo')\n",
    "    plt.plot(actual_price_test[0, :], mean[:,0] + 2*np.sqrt(var[:,0]),'ro')\n",
    "    plt.xlabel('$Price$', fontsize=13)\n",
    "    plt.ylabel('$y = f(x,h)$', fontsize=13)\n",
    "    plt.title(('Non-parametric DGP'))\n",
    "    plt.savefig(img_path)\n",
    "    obs_test = [x for _,x in sorted(zip(actual_price_test[0,:],observation_test[i,:].reshape(-1)))]\n",
    "    upp_conf =  [x for _,x in sorted(zip(actual_price_test[0,:], mean[ :] + 2* np.sqrt(var[:])))]\n",
    "    low_conf =  [x for _,x in sorted(zip(actual_price_test[0,:], mean[ :] - 2* np.sqrt(var[ :])))]\n",
    "    pred_test =  [x for _,x in sorted(zip(actual_price_test[0,:], mean[ :] ))]\n",
    "    with open(\"DGP obs_test user {}.pickle\".format(i+1), \"wb\") as f:\n",
    "        pickle.dump(obs_test ,f)\n",
    "    with open(\"DGP upp_conf user {}.pickle\".format(i+1), \"wb\") as f:\n",
    "        pickle.dump(upp_conf ,f)\n",
    "    with open(\"DGP low_conf user {}.pickle\".format(i+1), \"wb\") as f:\n",
    "        pickle.dump(low_conf ,f)\n",
    "    with open(\"DGP pred_test user {}.pickle\".format(i+1), \"wb\") as f:\n",
    "        pickle.dump(pred_test ,f)\n",
    "\n",
    "    for k in range(n_Trials):\n",
    "        for dim in range(mean.shape[0]):\n",
    "            y_pred_GPind[k, i, dim] = np.random.normal(mean[dim], np.sqrt(var[dim]), 1)\n",
    "        RMSerror += sum((observation_test[i, :] - y_pred_GPind[k, i, :])**2)\n",
    "\n",
    "RMSerror_indGP.append(np.sqrt(RMSerror/ (n_Trials*M*N)))\n",
    "\n",
    "        ##############\n",
    "    #Finding the best overbooking level, alpha\n",
    "\n",
    "#     p = 1\n",
    "#     c = 1.2\n",
    "#     T_capacity = 1235000\n",
    "#     max_prof = 0\n",
    "#     dscontfac = 0.99\n",
    "#     Total_cost = 0\n",
    "#     prof_lst = []\n",
    "#     for alpha in np.arange(0, 1, 0.01):\n",
    "#         revenue = (alpha+1) *T_capacity*p\n",
    "#         for time in range(M):\n",
    "#             unitcost = 0\n",
    "#             for itr in range(n_Trials):\n",
    "#                 sum_inv = 0\n",
    "#                 for user in range(N):\n",
    "#                     sum_inv += y_pred_GPind[itr,  user, time]\n",
    "#                 if (1-alpha)*T_capacity < sum_inv:\n",
    "#                     unitcost += c*(-(1-alpha)*T_capacity + sum_inv)\n",
    "\n",
    "#             average_cost= unitcost/n_Trials\n",
    "#             discounted_cost = (dscontfac**time) * average_cost\n",
    "#             Total_cost += discounted_cost\n",
    "#     #         print(\"discounted_cost\", discounted_cost)\n",
    "#     #     print(\"Total_cost\", Total_cost)\n",
    "#         profit = revenue - Total_cost\n",
    "#         prof_lst.append(profit)\n",
    "#         if profit > max_prof:\n",
    "#             opt_prof = profit\n",
    "#             opt_alpha.append(alpha)\n",
    "\n",
    "\n",
    "# config_path = experiment_path + \"/num of inducing points {}/Users/alpha.json\".format(num)\n",
    "\n",
    "# overbooking_value = {}\n",
    "# overbooking_value['alpha'] = opt_alpha\n",
    "# with open(config_path, \"w\") as f:\n",
    "#     json.dump(overbooking_value, f)   \n",
    "\n",
    "\n",
    "config_path = experiment_path + \"/RMSerror.json\"\n",
    "RMS_indGP = {}\n",
    "RMS_indGP['RMS'] = RMSerror_indGP\n",
    "with open(config_path, \"w\") as f:\n",
    "    json.dump(RMS_indGP, f)"
   ]
  },
  {
   "cell_type": "code",
   "execution_count": null,
   "metadata": {},
   "outputs": [],
   "source": []
  }
 ],
 "metadata": {
  "kernelspec": {
   "display_name": "Python 3",
   "language": "python",
   "name": "python3"
  },
  "language_info": {
   "codemirror_mode": {
    "name": "ipython",
    "version": 3
   },
   "file_extension": ".py",
   "mimetype": "text/x-python",
   "name": "python",
   "nbconvert_exporter": "python",
   "pygments_lexer": "ipython3",
   "version": "3.6.8"
  }
 },
 "nbformat": 4,
 "nbformat_minor": 2
}
