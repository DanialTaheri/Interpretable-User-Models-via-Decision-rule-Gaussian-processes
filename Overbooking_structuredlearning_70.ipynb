{
 "cells": [
  {
   "cell_type": "markdown",
   "metadata": {},
   "source": [
    "# Splitting data based on the user capacity\n"
   ]
  },
  {
   "cell_type": "code",
   "execution_count": 1,
   "metadata": {},
   "outputs": [
    {
     "name": "stdout",
     "output_type": "stream",
     "text": [
      "(48, 1) (48, 1) (48, 1) (48, 1) (48, 1)\n"
     ]
    }
   ],
   "source": [
    "import pickle\n",
    "%load_ext autoreload\n",
    "%autoreload 2\n",
    "import sys\n",
    "import numpy as np\n",
    "import scipy\n",
    "import matplotlib\n",
    "import matplotlib.pyplot as plt\n",
    "from matplotlib import cm\n",
    "from mpl_toolkits.axes_grid1 import make_axes_locatable\n",
    "import matplotlib.gridspec as gridspec\n",
    "import seaborn as sns\n",
    "import argparse, os\n",
    "import gpflow\n",
    "from gpflow import kernels\n",
    "from likelihoods import *\n",
    "from data import *\n",
    "from models import MLSVGP, BASESVGP\n",
    "from meta_loop import meta_loop\n",
    "from main import MAIN\n",
    "from run_main import *\n",
    "import json\n",
    "from sklearn.model_selection import train_test_split\n",
    "import tensorflow as tf\n",
    "\n",
    "observation_train = pickle.load(open('Inventory_norm_train70.pickle', 'rb'))\n",
    "observation_test = pickle.load(open('Inventory_norm_test70.pickle', 'rb'))\n",
    "observation_train = np.log(observation_train)\n",
    "observation_test = np.log(observation_test)\n",
    "prices = pickle.load(open('ActualPrices.pickle', 'rb'))\n",
    "prices_random_train = prices[0 : observation_train.shape[1]].reshape(-1,1)\n",
    "prices_random_test = prices[observation_train.shape[1]+1 :].reshape(-1,1)\n",
    "C = np.array(pickle.load(open('LeasedSpace.pickle', 'rb')))\n",
    "ids_train = np.zeros((observation_train.shape[0], observation_train.shape[1]))\n",
    "ids_test = np.zeros((observation_test.shape[0], observation_test.shape[1]))\n",
    "\n",
    "\n",
    "capacity_train = np.zeros((observation_train.shape[0], observation_train.shape[1]))\n",
    "capacity_test = np.zeros((observation_test.shape[0], observation_test.shape[1]))\n",
    "\n",
    "actual_price_train = np.zeros((observation_train.shape[0], observation_train.shape[1]))\n",
    "actual_price_test = np.zeros((observation_test.shape[0], observation_test.shape[1]))\n",
    "\n",
    "for i in range(observation_train.shape[0]):\n",
    "    for j in range(observation_train.shape[1]):       \n",
    "        ids_train[i, j]= i\n",
    "        capacity_train[i, j] = C[i]\n",
    "        actual_price_train[i,j] = prices_random_train[j]\n",
    "        \n",
    "for i in range(observation_test.shape[0]):\n",
    "    for j in range(observation_test.shape[1]):       \n",
    "        ids_test[i, j]= i\n",
    "        capacity_test[i, j] = C[i]\n",
    "        actual_price_test[i,j] = prices_random_test[j]\n",
    "        \n",
    "prior_observation_train = observation_train[:, :-1].reshape(-1,1)\n",
    "prior_observation_test = np.concatenate((observation_train[:, -1:], observation_test[:, :-1]), axis =1).reshape(-1,1)\n",
    "\n",
    "\n",
    "actual_observation_train = observation_train[:, 1:].reshape(-1,1)\n",
    "actual_observation_test =  observation_test[:, :].reshape(-1,1)\n",
    "\n",
    "User_capacity_train = capacity_train[:, :-1].reshape(-1,1)\n",
    "User_capacity_test = np.concatenate((capacity_train[:, -1:], capacity_test[:, :-1]), axis =1).reshape(-1,1)\n",
    "\n",
    "P_train = actual_price_train[:, 1:].reshape(-1,1)\n",
    "P_test = actual_price_test[:, :].reshape(-1,1)\n",
    "\n",
    "actual_ids_train =  ids_train[:, :-1].reshape(-1,1)\n",
    "actual_ids_test =  ids_test.reshape(-1,1)\n",
    "print(prior_observation_test.shape, User_capacity_test.shape, P_test.shape , actual_observation_test.shape , actual_ids_test.shape)\n",
    "\n",
    "dataset_train= np.hstack((prior_observation_train, User_capacity_train, P_train , actual_observation_train , actual_ids_train))\n",
    "\n",
    "dataset_test= np.hstack((prior_observation_test, User_capacity_test, P_test , actual_observation_test , actual_ids_test))\n",
    "\n",
    "\n",
    "\n"
   ]
  },
  {
   "cell_type": "code",
   "execution_count": null,
   "metadata": {},
   "outputs": [
    {
     "name": "stdout",
     "output_type": "stream",
     "text": [
      "WARNING:tensorflow:From /home/smohse3/anaconda3/envs/py36/lib/python3.6/site-packages/tensorflow/python/framework/op_def_library.py:263: colocate_with (from tensorflow.python.framework.ops) is deprecated and will be removed in a future version.\n",
      "Instructions for updating:\n",
      "Colocations handled automatically by placer.\n"
     ]
    },
    {
     "name": "stderr",
     "output_type": "stream",
     "text": [
      "WARNING:tensorflow:From /home/smohse3/anaconda3/envs/py36/lib/python3.6/site-packages/tensorflow/python/framework/op_def_library.py:263: colocate_with (from tensorflow.python.framework.ops) is deprecated and will be removed in a future version.\n",
      "Instructions for updating:\n",
      "Colocations handled automatically by placer.\n"
     ]
    },
    {
     "name": "stdout",
     "output_type": "stream",
     "text": [
      "[1.0]\n",
      "WARNING:tensorflow:From /home/smohse3/Overbooking_metalearning/Proportional inventory/models.py:171: Normal.__init__ (from tensorflow.python.ops.distributions.normal) is deprecated and will be removed after 2019-01-01.\n",
      "Instructions for updating:\n",
      "The TensorFlow Distributions library has moved to TensorFlow Probability (https://github.com/tensorflow/probability). You should update all references to use `tfp.distributions` instead of `tf.distributions`.\n"
     ]
    },
    {
     "name": "stderr",
     "output_type": "stream",
     "text": [
      "WARNING:tensorflow:From /home/smohse3/Overbooking_metalearning/Proportional inventory/models.py:171: Normal.__init__ (from tensorflow.python.ops.distributions.normal) is deprecated and will be removed after 2019-01-01.\n",
      "Instructions for updating:\n",
      "The TensorFlow Distributions library has moved to TensorFlow Probability (https://github.com/tensorflow/probability). You should update all references to use `tfp.distributions` instead of `tf.distributions`.\n"
     ]
    },
    {
     "name": "stdout",
     "output_type": "stream",
     "text": [
      "WARNING:tensorflow:From /home/smohse3/anaconda3/envs/py36/lib/python3.6/site-packages/tensorflow/python/ops/distributions/normal.py:160: Distribution.__init__ (from tensorflow.python.ops.distributions.distribution) is deprecated and will be removed after 2019-01-01.\n",
      "Instructions for updating:\n",
      "The TensorFlow Distributions library has moved to TensorFlow Probability (https://github.com/tensorflow/probability). You should update all references to use `tfp.distributions` instead of `tf.distributions`.\n"
     ]
    },
    {
     "name": "stderr",
     "output_type": "stream",
     "text": [
      "WARNING:tensorflow:From /home/smohse3/anaconda3/envs/py36/lib/python3.6/site-packages/tensorflow/python/ops/distributions/normal.py:160: Distribution.__init__ (from tensorflow.python.ops.distributions.distribution) is deprecated and will be removed after 2019-01-01.\n",
      "Instructions for updating:\n",
      "The TensorFlow Distributions library has moved to TensorFlow Probability (https://github.com/tensorflow/probability). You should update all references to use `tfp.distributions` instead of `tf.distributions`.\n"
     ]
    },
    {
     "name": "stdout",
     "output_type": "stream",
     "text": [
      "WARNING:tensorflow:From /home/smohse3/Overbooking_metalearning/Proportional inventory/models.py:173: kl_divergence (from tensorflow.python.ops.distributions.kullback_leibler) is deprecated and will be removed after 2019-01-01.\n",
      "Instructions for updating:\n",
      "The TensorFlow Distributions library has moved to TensorFlow Probability (https://github.com/tensorflow/probability). You should update all references to use `tfp.distributions` instead of `tf.distributions`.\n"
     ]
    },
    {
     "name": "stderr",
     "output_type": "stream",
     "text": [
      "WARNING:tensorflow:From /home/smohse3/Overbooking_metalearning/Proportional inventory/models.py:173: kl_divergence (from tensorflow.python.ops.distributions.kullback_leibler) is deprecated and will be removed after 2019-01-01.\n",
      "Instructions for updating:\n",
      "The TensorFlow Distributions library has moved to TensorFlow Probability (https://github.com/tensorflow/probability). You should update all references to use `tfp.distributions` instead of `tf.distributions`.\n"
     ]
    },
    {
     "name": "stdout",
     "output_type": "stream",
     "text": [
      "WARNING:tensorflow:From /home/smohse3/anaconda3/envs/py36/lib/python3.6/site-packages/tensorflow/python/ops/array_grad.py:425: to_int32 (from tensorflow.python.ops.math_ops) is deprecated and will be removed in a future version.\n",
      "Instructions for updating:\n",
      "Use tf.cast instead.\n"
     ]
    },
    {
     "name": "stderr",
     "output_type": "stream",
     "text": [
      "WARNING:tensorflow:From /home/smohse3/anaconda3/envs/py36/lib/python3.6/site-packages/tensorflow/python/ops/array_grad.py:425: to_int32 (from tensorflow.python.ops.math_ops) is deprecated and will be removed in a future version.\n",
      "Instructions for updating:\n",
      "Use tf.cast instead.\n",
      "  0%|          | 0/400 [00:00<?, ?it/s]"
     ]
    },
    {
     "name": "stdout",
     "output_type": "stream",
     "text": [
      "Training model..\n"
     ]
    },
    {
     "name": "stderr",
     "output_type": "stream",
     "text": [
      "100%|██████████| 400/400 [00:03<00:00, 110.82it/s]\n",
      "  4%|▎         | 14/400 [00:00<00:02, 139.06it/s]"
     ]
    },
    {
     "name": "stdout",
     "output_type": "stream",
     "text": [
      "-24.20506339769553\n",
      "Meta iteration 1/20\n",
      "Training model..\n"
     ]
    },
    {
     "name": "stderr",
     "output_type": "stream",
     "text": [
      "100%|██████████| 400/400 [00:03<00:00, 127.41it/s]\n",
      "  0%|          | 0/400 [00:00<?, ?it/s]"
     ]
    },
    {
     "name": "stdout",
     "output_type": "stream",
     "text": [
      "-25.486249536871846\n",
      "H_mu: [[-0.03341046]\n",
      " [-0.14651584]\n",
      " [ 0.12027355]\n",
      " [-0.00377972]]\n",
      "H_var: [[0.15982327]\n",
      " [0.2143083 ]\n",
      " [0.31128512]\n",
      " [0.31690677]]\n",
      "H_error: [[0.79955805]\n",
      " [0.92586888]\n",
      " [1.11585862]\n",
      " [1.12588946]]\n",
      "lik_noise: [0.01176489]\n",
      "kern_var: 0.9086538570873409\n",
      "kern_ls: [ 3.65855293  4.74865473 10.91731783  6.5817545 ]\n",
      "Meta iteration 2/20\n",
      "Training model..\n"
     ]
    },
    {
     "name": "stderr",
     "output_type": "stream",
     "text": [
      "100%|██████████| 400/400 [00:03<00:00, 123.95it/s]\n",
      "  3%|▎         | 13/400 [00:00<00:03, 125.80it/s]"
     ]
    },
    {
     "name": "stdout",
     "output_type": "stream",
     "text": [
      "-28.53883670836937\n",
      "H_mu: [[-0.01463651]\n",
      " [-0.00745375]\n",
      " [-0.0004235 ]\n",
      " [ 0.04730644]]\n",
      "H_var: [[0.20849122]\n",
      " [0.27936716]\n",
      " [0.46463807]\n",
      " [0.47635772]]\n",
      "H_error: [[0.91321678]\n",
      " [1.05710389]\n",
      " [1.36328731]\n",
      " [1.38037345]]\n",
      "lik_noise: [0.0113025]\n",
      "kern_var: 1.0800031393833063\n",
      "kern_ls: [ 3.87679845  5.03924952 13.17540827  8.44165769]\n",
      "Meta iteration 3/20\n",
      "Training model..\n"
     ]
    },
    {
     "name": "stderr",
     "output_type": "stream",
     "text": [
      "100%|██████████| 400/400 [00:03<00:00, 120.19it/s]\n",
      "  3%|▎         | 13/400 [00:00<00:03, 125.76it/s]"
     ]
    },
    {
     "name": "stdout",
     "output_type": "stream",
     "text": [
      "-26.524537917526025\n",
      "H_mu: [[-0.02630189]\n",
      " [ 0.01013634]\n",
      " [-0.02086413]\n",
      " [ 0.09828765]]\n",
      "H_var: [[0.29084271]\n",
      " [0.35815464]\n",
      " [0.47925806]\n",
      " [0.48846113]]\n",
      "H_error: [[1.07859669]\n",
      " [1.19692045]\n",
      " [1.38456933]\n",
      " [1.39779989]]\n",
      "lik_noise: [0.01127168]\n",
      "kern_var: 1.2141595868703796\n",
      "kern_ls: [ 4.03586791  5.26534945 15.22358143 10.30946671]\n",
      "Meta iteration 4/20\n",
      "Training model..\n"
     ]
    },
    {
     "name": "stderr",
     "output_type": "stream",
     "text": [
      "100%|██████████| 400/400 [00:03<00:00, 125.70it/s]\n",
      "  3%|▎         | 13/400 [00:00<00:03, 124.63it/s]"
     ]
    },
    {
     "name": "stdout",
     "output_type": "stream",
     "text": [
      "-31.165182556088343\n",
      "H_mu: [[-0.06792742]\n",
      " [-0.03583927]\n",
      " [ 0.03306004]\n",
      " [-0.02156744]]\n",
      "H_var: [[0.33219281]\n",
      " [0.40882519]\n",
      " [0.57497353]\n",
      " [0.54012622]]\n",
      "H_error: [[1.1527234 ]\n",
      " [1.27878878]\n",
      " [1.51654019]\n",
      " [1.4698656 ]]\n",
      "lik_noise: [0.01116959]\n",
      "kern_var: 1.3442015897602972\n",
      "kern_ls: [ 4.18250995  5.41616059 17.0483323  12.18331564]\n",
      "Meta iteration 5/20\n",
      "Training model..\n"
     ]
    },
    {
     "name": "stderr",
     "output_type": "stream",
     "text": [
      "100%|██████████| 400/400 [00:03<00:00, 125.49it/s]\n",
      "  3%|▎         | 13/400 [00:00<00:03, 127.41it/s]"
     ]
    },
    {
     "name": "stdout",
     "output_type": "stream",
     "text": [
      "-32.38589222386558\n",
      "H_mu: [[ 0.03147798]\n",
      " [-0.01842922]\n",
      " [-0.04724195]\n",
      " [ 0.02118086]]\n",
      "H_var: [[0.39525223]\n",
      " [0.52062844]\n",
      " [0.57969084]\n",
      " [0.59053076]]\n",
      "H_error: [[1.25738178]\n",
      " [1.44309173]\n",
      " [1.52274862]\n",
      " [1.53691998]]\n",
      "lik_noise: [0.01068398]\n",
      "kern_var: 1.4612448573716232\n",
      "kern_ls: [ 4.28861301  5.53724448 18.6519766  14.1347892 ]\n",
      "Meta iteration 6/20\n",
      "Training model..\n"
     ]
    },
    {
     "name": "stderr",
     "output_type": "stream",
     "text": [
      "100%|██████████| 400/400 [00:03<00:00, 131.49it/s]\n",
      "  3%|▎         | 13/400 [00:00<00:03, 122.60it/s]"
     ]
    },
    {
     "name": "stdout",
     "output_type": "stream",
     "text": [
      "-31.564247549422838\n",
      "H_mu: [[ 0.01131883]\n",
      " [-0.00416807]\n",
      " [ 0.04046653]\n",
      " [ 0.01332794]]\n",
      "H_var: [[0.43898531]\n",
      " [0.53428285]\n",
      " [0.57659876]\n",
      " [0.61253056]]\n",
      "H_error: [[1.32511933]\n",
      " [1.46189309]\n",
      " [1.51868201]\n",
      " [1.56528663]]\n",
      "lik_noise: [0.01096341]\n",
      "kern_var: 1.564910553332171\n",
      "kern_ls: [ 4.3800115   5.65858068 20.09171639 16.16246259]\n",
      "Meta iteration 7/20\n",
      "Training model..\n"
     ]
    },
    {
     "name": "stderr",
     "output_type": "stream",
     "text": [
      "100%|██████████| 400/400 [00:03<00:00, 126.38it/s]\n",
      "  4%|▎         | 14/400 [00:00<00:02, 136.33it/s]"
     ]
    },
    {
     "name": "stdout",
     "output_type": "stream",
     "text": [
      "-30.440505936350995\n",
      "H_mu: [[-0.03974267]\n",
      " [-0.02482415]\n",
      " [-0.0159972 ]\n",
      " [ 0.03298542]]\n",
      "H_var: [[0.43382796]\n",
      " [0.55094371]\n",
      " [0.60831641]\n",
      " [0.65157496]]\n",
      "H_error: [[1.31731235]\n",
      " [1.48451165]\n",
      " [1.55989283]\n",
      " [1.61440386]]\n",
      "lik_noise: [0.01099874]\n",
      "kern_var: 1.6584059239778366\n",
      "kern_ls: [ 4.46063478  5.77291655 21.41989325 18.26449067]\n",
      "Meta iteration 8/20\n",
      "Training model..\n"
     ]
    },
    {
     "name": "stderr",
     "output_type": "stream",
     "text": [
      "100%|██████████| 400/400 [00:03<00:00, 122.34it/s]\n",
      "  3%|▎         | 13/400 [00:00<00:03, 126.67it/s]"
     ]
    },
    {
     "name": "stdout",
     "output_type": "stream",
     "text": [
      "-32.33837903628806\n",
      "H_mu: [[ 0.02623748]\n",
      " [-0.04234455]\n",
      " [ 0.0416123 ]\n",
      " [ 0.00300979]]\n",
      "H_var: [[0.45427741]\n",
      " [0.60286921]\n",
      " [0.65344389]\n",
      " [0.65155394]]\n",
      "H_error: [[1.34800209]\n",
      " [1.55289306]\n",
      " [1.61671752]\n",
      " [1.61437782]]\n",
      "lik_noise: [0.01094974]\n",
      "kern_var: 1.762912215163163\n",
      "kern_ls: [ 4.52684804  5.84229451 22.66791773 20.4491472 ]\n",
      "Meta iteration 9/20\n",
      "Training model..\n"
     ]
    },
    {
     "name": "stderr",
     "output_type": "stream",
     "text": [
      "100%|██████████| 400/400 [00:03<00:00, 128.99it/s]\n",
      "  4%|▎         | 14/400 [00:00<00:02, 129.88it/s]"
     ]
    },
    {
     "name": "stdout",
     "output_type": "stream",
     "text": [
      "-31.26063389478212\n",
      "H_mu: [[-0.01819215]\n",
      " [-0.03891298]\n",
      " [-0.00414611]\n",
      " [ 0.02432768]]\n",
      "H_var: [[0.50454108]\n",
      " [0.60496127]\n",
      " [0.6491829 ]\n",
      " [0.65825241]]\n",
      "H_error: [[1.4206211 ]\n",
      " [1.55558513]\n",
      " [1.61143774]\n",
      " [1.62265512]]\n",
      "lik_noise: [0.01097897]\n",
      "kern_var: 1.836718269782561\n",
      "kern_ls: [ 4.60682592  5.92815078 23.86778284 22.80036417]\n",
      "Meta iteration 10/20\n",
      "Training model..\n"
     ]
    },
    {
     "name": "stderr",
     "output_type": "stream",
     "text": [
      "100%|██████████| 400/400 [00:03<00:00, 129.80it/s]\n",
      "  3%|▎         | 13/400 [00:00<00:03, 126.68it/s]"
     ]
    },
    {
     "name": "stdout",
     "output_type": "stream",
     "text": [
      "-32.4556478984044\n",
      "H_mu: [[-0.00489952]\n",
      " [ 0.01578919]\n",
      " [ 0.00419365]\n",
      " [-0.02479549]]\n",
      "H_var: [[0.54072972]\n",
      " [0.64527744]\n",
      " [0.68229192]\n",
      " [0.7288677 ]]\n",
      "H_error: [[1.47068653]\n",
      " [1.60658326]\n",
      " [1.65201927]\n",
      " [1.70747498]]\n",
      "lik_noise: [0.01103979]\n",
      "kern_var: 1.930136431659843\n",
      "kern_ls: [ 4.6541166   5.97761547 24.99891526 25.39536626]\n",
      "Meta iteration 11/20\n",
      "Training model..\n"
     ]
    },
    {
     "name": "stderr",
     "output_type": "stream",
     "text": [
      "100%|██████████| 400/400 [00:03<00:00, 125.26it/s]\n",
      "  3%|▎         | 13/400 [00:00<00:03, 127.08it/s]"
     ]
    },
    {
     "name": "stdout",
     "output_type": "stream",
     "text": [
      "-33.14394628362037\n",
      "H_mu: [[ 0.0260589 ]\n",
      " [-0.07207049]\n",
      " [ 0.08251995]\n",
      " [-0.00493624]]\n",
      "H_var: [[0.54970581]\n",
      " [0.64410082]\n",
      " [0.65337445]\n",
      " [0.72076289]]\n",
      "H_error: [[1.48284295]\n",
      " [1.60511784]\n",
      " [1.61663162]\n",
      " [1.69795511]]\n",
      "lik_noise: [0.01073118]\n",
      "kern_var: 2.0123149891263186\n",
      "kern_ls: [ 4.689341    6.02563488 26.10632809 28.28465378]\n",
      "Meta iteration 12/20\n",
      "Training model..\n"
     ]
    },
    {
     "name": "stderr",
     "output_type": "stream",
     "text": [
      "100%|██████████| 400/400 [00:03<00:00, 125.80it/s]\n",
      "  4%|▎         | 14/400 [00:00<00:02, 134.50it/s]"
     ]
    },
    {
     "name": "stdout",
     "output_type": "stream",
     "text": [
      "-35.57761640899558\n",
      "H_mu: [[ 0.02294398]\n",
      " [-0.04115075]\n",
      " [ 0.06999262]\n",
      " [-0.01985249]]\n",
      "H_var: [[0.58628312]\n",
      " [0.64604683]\n",
      " [0.73319268]\n",
      " [0.64338165]]\n",
      "H_error: [[1.53138254]\n",
      " [1.60754076]\n",
      " [1.71253342]\n",
      " [1.6042215 ]]\n",
      "lik_noise: [0.01090515]\n",
      "kern_var: 2.075133767438693\n",
      "kern_ls: [ 4.73376194  6.095234   27.15953654 31.40953507]\n",
      "Meta iteration 13/20\n",
      "Training model..\n"
     ]
    },
    {
     "name": "stderr",
     "output_type": "stream",
     "text": [
      "100%|██████████| 400/400 [00:03<00:00, 126.68it/s]\n",
      "  3%|▎         | 13/400 [00:00<00:03, 122.94it/s]"
     ]
    },
    {
     "name": "stdout",
     "output_type": "stream",
     "text": [
      "-33.724290202450184\n",
      "H_mu: [[-0.01436639]\n",
      " [ 0.05032937]\n",
      " [-0.07223901]\n",
      " [ 0.02537616]]\n",
      "H_var: [[0.65293414]\n",
      " [0.7242107 ]\n",
      " [0.76232294]\n",
      " [0.73839335]]\n",
      "H_error: [[1.61608681]\n",
      " [1.7020114 ]\n",
      " [1.74622214]\n",
      " [1.71859634]]\n",
      "lik_noise: [0.01064773]\n",
      "kern_var: 2.1478886301966833\n",
      "kern_ls: [ 4.77723385  6.11827468 28.14950665 34.84540303]\n",
      "Meta iteration 14/20\n",
      "Training model..\n"
     ]
    },
    {
     "name": "stderr",
     "output_type": "stream",
     "text": [
      "100%|██████████| 400/400 [00:03<00:00, 129.86it/s]\n",
      "  4%|▎         | 14/400 [00:00<00:02, 130.08it/s]"
     ]
    },
    {
     "name": "stdout",
     "output_type": "stream",
     "text": [
      "-33.69872448903817\n",
      "H_mu: [[0.00544366]\n",
      " [0.00902382]\n",
      " [0.01026916]\n",
      " [0.00412339]]\n",
      "H_var: [[0.63697458]\n",
      " [0.67829326]\n",
      " [0.70113366]\n",
      " [0.77127297]]\n",
      "H_error: [[1.59621374]\n",
      " [1.64717123]\n",
      " [1.67467449]\n",
      " [1.75644296]]\n",
      "lik_noise: [0.01080825]\n",
      "kern_var: 2.221402014655896\n",
      "kern_ls: [ 4.80483296  6.15684132 29.13015015 38.59434913]\n",
      "Meta iteration 15/20\n",
      "Training model..\n"
     ]
    },
    {
     "name": "stderr",
     "output_type": "stream",
     "text": [
      "100%|██████████| 400/400 [00:03<00:00, 121.95it/s]\n",
      "  3%|▎         | 13/400 [00:00<00:03, 120.93it/s]"
     ]
    },
    {
     "name": "stdout",
     "output_type": "stream",
     "text": [
      "-32.66024989810677\n",
      "H_mu: [[ 0.00638365]\n",
      " [ 0.06939518]\n",
      " [-0.08337553]\n",
      " [ 0.00869004]]\n",
      "H_var: [[0.71874547]\n",
      " [0.71720085]\n",
      " [0.74361356]\n",
      " [0.72456004]]\n",
      "H_error: [[1.69557716]\n",
      " [1.69375423]\n",
      " [1.72466061]\n",
      " [1.70242185]]\n",
      "lik_noise: [0.01075727]\n",
      "kern_var: 2.28242982885228\n",
      "kern_ls: [ 4.84820693  6.20250548 30.09388578 42.62784657]\n",
      "Meta iteration 16/20\n",
      "Training model..\n"
     ]
    },
    {
     "name": "stderr",
     "output_type": "stream",
     "text": [
      "100%|██████████| 400/400 [00:03<00:00, 128.88it/s]\n",
      "  3%|▎         | 13/400 [00:00<00:03, 121.78it/s]"
     ]
    },
    {
     "name": "stdout",
     "output_type": "stream",
     "text": [
      "-34.55396671373181\n",
      "H_mu: [[ 0.00181489]\n",
      " [ 0.07243429]\n",
      " [-0.0645624 ]\n",
      " [-0.04848936]]\n",
      "H_var: [[0.73885111]\n",
      " [0.74149462]\n",
      " [0.76293327]\n",
      " [0.64694899]]\n",
      "H_error: [[1.71912897]\n",
      " [1.72220164]\n",
      " [1.74692102]\n",
      " [1.60866278]]\n",
      "lik_noise: [0.01029718]\n",
      "kern_var: 2.356362635838679\n",
      "kern_ls: [ 4.87089953  6.23184872 31.01521369 47.08592282]\n",
      "Meta iteration 17/20\n",
      "Training model..\n"
     ]
    },
    {
     "name": "stderr",
     "output_type": "stream",
     "text": [
      "100%|██████████| 400/400 [00:03<00:00, 122.82it/s]\n",
      "  3%|▎         | 13/400 [00:00<00:03, 121.65it/s]"
     ]
    },
    {
     "name": "stdout",
     "output_type": "stream",
     "text": [
      "-33.917980769051134\n",
      "H_mu: [[-0.00421928]\n",
      " [-0.02252778]\n",
      " [ 0.00046376]\n",
      " [ 0.01322072]]\n",
      "H_var: [[0.76417675]\n",
      " [0.76016806]\n",
      " [0.77986184]\n",
      " [0.77541461]]\n",
      "H_error: [[1.74834408]\n",
      " [1.74375234]\n",
      " [1.76619573]\n",
      " [1.76115259]]\n",
      "lik_noise: [0.01063326]\n",
      "kern_var: 2.415635888739287\n",
      "kern_ls: [ 4.9029064   6.27544663 31.89518337 51.96814061]\n",
      "Meta iteration 18/20\n",
      "Training model..\n"
     ]
    },
    {
     "name": "stderr",
     "output_type": "stream",
     "text": [
      "100%|██████████| 400/400 [00:03<00:00, 125.70it/s]\n",
      "  3%|▎         | 13/400 [00:00<00:03, 126.98it/s]"
     ]
    },
    {
     "name": "stdout",
     "output_type": "stream",
     "text": [
      "-30.213816312632087\n",
      "H_mu: [[-0.01458109]\n",
      " [ 0.05525048]\n",
      " [-0.08292686]\n",
      " [ 0.00198499]]\n",
      "H_var: [[0.77264622]\n",
      " [0.77632763]\n",
      " [0.78312328]\n",
      " [0.72876431]]\n",
      "H_error: [[1.75800594]\n",
      " [1.76218912]\n",
      " [1.76988506]\n",
      " [1.70735387]]\n",
      "lik_noise: [0.0101808]\n",
      "kern_var: 2.474604281632909\n",
      "kern_ls: [ 4.9375267   6.31012957 32.78834548 57.16585381]\n",
      "Meta iteration 19/20\n",
      "Training model..\n"
     ]
    },
    {
     "name": "stderr",
     "output_type": "stream",
     "text": [
      "100%|██████████| 400/400 [00:03<00:00, 129.11it/s]\n",
      "  3%|▎         | 13/400 [00:00<00:02, 129.92it/s]"
     ]
    },
    {
     "name": "stdout",
     "output_type": "stream",
     "text": [
      "-35.12402644218871\n",
      "H_mu: [[ 0.00695894]\n",
      " [-0.02034605]\n",
      " [ 0.03964339]\n",
      " [-0.00416675]]\n",
      "H_var: [[0.72914139]\n",
      " [0.77338682]\n",
      " [0.82979598]\n",
      " [0.79450265]]\n",
      "H_error: [[1.70779552]\n",
      " [1.75884828]\n",
      " [1.82186276]\n",
      " [1.78269756]]\n",
      "lik_noise: [0.01047635]\n",
      "kern_var: 2.5397114751447964\n",
      "kern_ls: [ 4.96781452  6.34357274 33.64145398 62.37918312]\n",
      "Meta iteration 20/20\n",
      "Training model..\n"
     ]
    },
    {
     "name": "stderr",
     "output_type": "stream",
     "text": [
      "100%|██████████| 400/400 [00:03<00:00, 126.48it/s]\n",
      "  4%|▎         | 14/400 [00:00<00:02, 131.88it/s]"
     ]
    },
    {
     "name": "stdout",
     "output_type": "stream",
     "text": [
      "-33.57101748566881\n",
      "H_mu: [[-0.00395225]\n",
      " [ 0.00442931]\n",
      " [-0.01541929]\n",
      " [-0.01280133]]\n",
      "H_var: [[0.74098623]\n",
      " [0.75009886]\n",
      " [0.8230661 ]\n",
      " [0.82335812]]\n",
      "H_error: [[1.72161114]\n",
      " [1.73216496]\n",
      " [1.81445981]\n",
      " [1.81478166]]\n",
      "lik_noise: [0.0106921]\n",
      "kern_var: 2.5933109656817273\n",
      "kern_ls: [ 4.99820282  6.39726087 34.47270079 67.78946409]\n",
      "Training model..\n"
     ]
    },
    {
     "name": "stderr",
     "output_type": "stream",
     "text": [
      "100%|██████████| 400/400 [00:03<00:00, 129.46it/s]\n",
      "  0%|          | 0/400 [00:00<?, ?it/s]"
     ]
    },
    {
     "name": "stdout",
     "output_type": "stream",
     "text": [
      "-34.92138331571597\n",
      "Training model..\n"
     ]
    },
    {
     "name": "stderr",
     "output_type": "stream",
     "text": [
      "100%|██████████| 400/400 [00:02<00:00, 144.42it/s]\n",
      "  4%|▍         | 18/400 [00:00<00:02, 178.42it/s]"
     ]
    },
    {
     "name": "stdout",
     "output_type": "stream",
     "text": [
      "-8.392611358015321\n",
      "Meta iteration 1/20\n",
      "Training model..\n"
     ]
    },
    {
     "name": "stderr",
     "output_type": "stream",
     "text": [
      "100%|██████████| 400/400 [00:02<00:00, 176.29it/s]\n",
      "  0%|          | 0/400 [00:00<?, ?it/s]"
     ]
    },
    {
     "name": "stdout",
     "output_type": "stream",
     "text": [
      "-9.884232501697932\n",
      "H_mu: [[-0.03564511]\n",
      " [-0.0622168 ]\n",
      " [ 0.03827934]\n",
      " [ 0.04171015]]\n",
      "H_var: [[0.192545  ]\n",
      " [0.23109341]\n",
      " [0.37548102]\n",
      " [0.34178438]]\n",
      "H_error: [[0.87759899]\n",
      " [0.96144351]\n",
      " [1.22553012]\n",
      " [1.16924657]]\n",
      "lik_noise: [0.02047853]\n",
      "kern_var: 0.8585787993181928\n",
      "kern_ls: [2.97306803 4.24294236 8.13322715 5.5458493 ]\n",
      "Meta iteration 2/20\n",
      "Training model..\n"
     ]
    },
    {
     "name": "stderr",
     "output_type": "stream",
     "text": [
      "100%|██████████| 400/400 [00:02<00:00, 163.28it/s]\n",
      "  4%|▍         | 17/400 [00:00<00:02, 161.38it/s]"
     ]
    },
    {
     "name": "stdout",
     "output_type": "stream",
     "text": [
      "-11.156895818526046\n",
      "H_mu: [[-0.0690254 ]\n",
      " [-0.00928332]\n",
      " [ 0.00413648]\n",
      " [ 0.06806732]]\n",
      "H_var: [[0.24199799]\n",
      " [0.29934418]\n",
      " [0.47227086]\n",
      " [0.49597921]]\n",
      "H_error: [[0.98386583]\n",
      " [1.09424711]\n",
      " [1.37443931]\n",
      " [1.40851583]]\n",
      "lik_noise: [0.02050159]\n",
      "kern_var: 0.9626513628764675\n",
      "kern_ls: [ 3.01310354  4.65170705 10.05764264  7.09565412]\n",
      "Meta iteration 3/20\n",
      "Training model..\n"
     ]
    },
    {
     "name": "stderr",
     "output_type": "stream",
     "text": [
      "100%|██████████| 400/400 [00:02<00:00, 161.84it/s]\n",
      "  4%|▍         | 17/400 [00:00<00:02, 164.09it/s]"
     ]
    },
    {
     "name": "stdout",
     "output_type": "stream",
     "text": [
      "-12.014461968558074\n",
      "H_mu: [[ 0.01297779]\n",
      " [-0.02943258]\n",
      " [-0.01196502]\n",
      " [ 0.01925658]]\n",
      "H_var: [[0.34414099]\n",
      " [0.40620293]\n",
      " [0.57055227]\n",
      " [0.52259356]]\n",
      "H_error: [[1.17327063]\n",
      " [1.27468102]\n",
      " [1.51069821]\n",
      " [1.44581265]]\n",
      "lik_noise: [0.02073436]\n",
      "kern_var: 1.0428796606326582\n",
      "kern_ls: [ 3.03918438  4.92671929 12.5752379   8.66031204]\n",
      "Meta iteration 4/20\n",
      "Training model..\n"
     ]
    },
    {
     "name": "stderr",
     "output_type": "stream",
     "text": [
      "100%|██████████| 400/400 [00:02<00:00, 161.89it/s]\n",
      "  4%|▍         | 17/400 [00:00<00:02, 162.92it/s]"
     ]
    },
    {
     "name": "stdout",
     "output_type": "stream",
     "text": [
      "-12.208939740147425\n",
      "H_mu: [[ 0.0080347 ]\n",
      " [-0.05649224]\n",
      " [-0.00365218]\n",
      " [ 0.00559868]]\n",
      "H_var: [[0.36187423]\n",
      " [0.44206738]\n",
      " [0.59815284]\n",
      " [0.61300201]]\n",
      "H_error: [[1.20311966]\n",
      " [1.32976296]\n",
      " [1.54680683]\n",
      " [1.5658889 ]]\n",
      "lik_noise: [0.02058901]\n",
      "kern_var: 1.1000201249842527\n",
      "kern_ls: [ 3.06987279  5.1215178  15.60224085 10.30104   ]\n",
      "Meta iteration 5/20\n",
      "Training model..\n"
     ]
    },
    {
     "name": "stderr",
     "output_type": "stream",
     "text": [
      "100%|██████████| 400/400 [00:02<00:00, 161.52it/s]\n",
      "  4%|▍         | 17/400 [00:00<00:02, 162.74it/s]"
     ]
    },
    {
     "name": "stdout",
     "output_type": "stream",
     "text": [
      "-12.093735461265407\n",
      "H_mu: [[-0.00639487]\n",
      " [-0.04224155]\n",
      " [-0.01906225]\n",
      " [ 0.02078101]]\n",
      "H_var: [[0.45453703]\n",
      " [0.5739693 ]\n",
      " [0.62586618]\n",
      " [0.62453874]]\n",
      "H_error: [[1.34838724]\n",
      " [1.51521523]\n",
      " [1.58223409]\n",
      " [1.58055527]]\n",
      "lik_noise: [0.02062174]\n",
      "kern_var: 1.1660799042286376\n",
      "kern_ls: [ 3.09909462  5.28949486 19.12602836 11.94789404]\n",
      "Meta iteration 6/20\n",
      "Training model..\n"
     ]
    },
    {
     "name": "stderr",
     "output_type": "stream",
     "text": [
      "100%|██████████| 400/400 [00:02<00:00, 162.40it/s]\n",
      "  4%|▍         | 17/400 [00:00<00:02, 162.97it/s]"
     ]
    },
    {
     "name": "stdout",
     "output_type": "stream",
     "text": [
      "-13.696197132538432\n",
      "H_mu: [[ 0.00652852]\n",
      " [-0.04969111]\n",
      " [ 0.04637897]\n",
      " [-0.03276944]]\n",
      "H_var: [[0.53988895]\n",
      " [0.5879984 ]\n",
      " [0.64622563]\n",
      " [0.67785116]]\n",
      "H_error: [[1.46954272]\n",
      " [1.53362108]\n",
      " [1.6077632 ]\n",
      " [1.64663434]]\n",
      "lik_noise: [0.01952392]\n",
      "kern_var: 1.2184066760099161\n",
      "kern_ls: [ 3.13399473  5.41662603 22.96996013 13.64505277]\n",
      "Meta iteration 7/20\n",
      "Training model..\n"
     ]
    },
    {
     "name": "stderr",
     "output_type": "stream",
     "text": [
      "100%|██████████| 400/400 [00:02<00:00, 162.86it/s]\n",
      "  4%|▍         | 17/400 [00:00<00:02, 164.65it/s]"
     ]
    },
    {
     "name": "stdout",
     "output_type": "stream",
     "text": [
      "-13.717754291440679\n",
      "H_mu: [[ 0.02076314]\n",
      " [-0.02720628]\n",
      " [ 0.01946659]\n",
      " [ 0.01274804]]\n",
      "H_var: [[0.52913093]\n",
      " [0.55441749]\n",
      " [0.69665677]\n",
      " [0.71532593]]\n",
      "H_error: [[1.45482772]\n",
      " [1.48918432]\n",
      " [1.66931935]\n",
      " [1.69153886]]\n",
      "lik_noise: [0.02015869]\n",
      "kern_var: 1.2760483982615787\n",
      "kern_ls: [ 3.16981602  5.54178115 27.00621572 15.3932783 ]\n",
      "Meta iteration 8/20\n",
      "Training model..\n"
     ]
    },
    {
     "name": "stderr",
     "output_type": "stream",
     "text": [
      "100%|██████████| 400/400 [00:02<00:00, 160.47it/s]\n",
      "  4%|▍         | 16/400 [00:00<00:02, 152.52it/s]"
     ]
    },
    {
     "name": "stdout",
     "output_type": "stream",
     "text": [
      "-15.002823481690921\n",
      "H_mu: [[ 0.0118976 ]\n",
      " [-0.04720453]\n",
      " [ 0.01237211]\n",
      " [-0.01746504]]\n",
      "H_var: [[0.56552612]\n",
      " [0.62346525]\n",
      " [0.70646059]\n",
      " [0.66581054]]\n",
      "H_error: [[1.50402942]\n",
      " [1.57919631]\n",
      " [1.6810242 ]\n",
      " [1.63194428]]\n",
      "lik_noise: [0.02021345]\n",
      "kern_var: 1.349580720132727\n",
      "kern_ls: [ 3.1901885   5.66332989 31.02519881 17.15539813]\n",
      "Meta iteration 9/20\n",
      "Training model..\n"
     ]
    },
    {
     "name": "stderr",
     "output_type": "stream",
     "text": [
      "100%|██████████| 400/400 [00:02<00:00, 162.80it/s]\n",
      "  4%|▍         | 17/400 [00:00<00:02, 164.37it/s]"
     ]
    },
    {
     "name": "stdout",
     "output_type": "stream",
     "text": [
      "-13.439448266041328\n",
      "H_mu: [[ 0.01323565]\n",
      " [-0.00254593]\n",
      " [-0.02499923]\n",
      " [ 0.02324173]]\n",
      "H_var: [[0.62770703]\n",
      " [0.67481959]\n",
      " [0.71765199]\n",
      " [0.68509592]]\n",
      "H_error: [[1.58455929]\n",
      " [1.64294807]\n",
      " [1.69428685]\n",
      " [1.65541042]]\n",
      "lik_noise: [0.01977061]\n",
      "kern_var: 1.4118885213431813\n",
      "kern_ls: [ 3.20769189  5.76298179 34.87733528 18.90604647]\n",
      "Meta iteration 10/20\n",
      "Training model..\n"
     ]
    },
    {
     "name": "stderr",
     "output_type": "stream",
     "text": [
      "100%|██████████| 400/400 [00:02<00:00, 161.70it/s]\n",
      "  4%|▍         | 17/400 [00:00<00:02, 162.42it/s]"
     ]
    },
    {
     "name": "stdout",
     "output_type": "stream",
     "text": [
      "-15.105888089951701\n",
      "H_mu: [[ 0.02243405]\n",
      " [-0.02695072]\n",
      " [ 0.03119425]\n",
      " [-0.02173215]]\n",
      "H_var: [[0.6236102 ]\n",
      " [0.67715813]\n",
      " [0.73877132]\n",
      " [0.74213559]]\n",
      "H_error: [[1.57937988]\n",
      " [1.64579237]\n",
      " [1.71903614]\n",
      " [1.72294584]]\n",
      "lik_noise: [0.01963299]\n",
      "kern_var: 1.4575377314956115\n",
      "kern_ls: [ 3.25520862  5.85584296 38.57229248 20.67039671]\n",
      "Meta iteration 11/20\n",
      "Training model..\n"
     ]
    },
    {
     "name": "stderr",
     "output_type": "stream",
     "text": [
      "100%|██████████| 400/400 [00:02<00:00, 161.91it/s]\n",
      "  4%|▍         | 17/400 [00:00<00:02, 162.26it/s]"
     ]
    },
    {
     "name": "stdout",
     "output_type": "stream",
     "text": [
      "-14.665287361005056\n",
      "H_mu: [[ 0.02345594]\n",
      " [-0.04179003]\n",
      " [-0.00671211]\n",
      " [ 0.0031384 ]]\n",
      "H_var: [[0.64931811]\n",
      " [0.63028004]\n",
      " [0.79077495]\n",
      " [0.74676653]]\n",
      "H_error: [[1.61160555]\n",
      " [1.58780356]\n",
      " [1.77851056]\n",
      " [1.72831309]]\n",
      "lik_noise: [0.01947921]\n",
      "kern_var: 1.51686695459676\n",
      "kern_ls: [ 3.27959793  5.94306349 42.0691219  22.45329729]\n",
      "Meta iteration 12/20\n",
      "Training model..\n"
     ]
    },
    {
     "name": "stderr",
     "output_type": "stream",
     "text": [
      "100%|██████████| 400/400 [00:02<00:00, 161.53it/s]\n",
      "  4%|▍         | 17/400 [00:00<00:02, 162.83it/s]"
     ]
    },
    {
     "name": "stdout",
     "output_type": "stream",
     "text": [
      "-15.412782099472771\n",
      "H_mu: [[ 0.00882935]\n",
      " [-0.07799759]\n",
      " [ 0.07269387]\n",
      " [ 0.01521238]]\n",
      "H_var: [[0.64950168]\n",
      " [0.68980268]\n",
      " [0.74026818]\n",
      " [0.75593358]]\n",
      "H_error: [[1.61183334]\n",
      " [1.66108722]\n",
      " [1.72077677]\n",
      " [1.73888882]]\n",
      "lik_noise: [0.01974808]\n",
      "kern_var: 1.5671244703588658\n",
      "kern_ls: [ 3.31828672  6.0514817  45.31121064 24.15414694]\n",
      "Meta iteration 13/20\n",
      "Training model..\n"
     ]
    },
    {
     "name": "stderr",
     "output_type": "stream",
     "text": [
      "100%|██████████| 400/400 [00:02<00:00, 161.14it/s]\n",
      "  4%|▍         | 16/400 [00:00<00:02, 159.45it/s]"
     ]
    },
    {
     "name": "stdout",
     "output_type": "stream",
     "text": [
      "-14.953903278714025\n",
      "H_mu: [[-0.01177427]\n",
      " [ 0.06809808]\n",
      " [-0.07454943]\n",
      " [ 0.00628159]]\n",
      "H_var: [[0.68502215]\n",
      " [0.68355949]\n",
      " [0.769603  ]\n",
      " [0.79599489]]\n",
      "H_error: [[1.65532129]\n",
      " [1.65355313]\n",
      " [1.7545404 ]\n",
      " [1.78437091]]\n",
      "lik_noise: [0.0200811]\n",
      "kern_var: 1.623781971603159\n",
      "kern_ls: [ 3.346518    6.07845593 48.11480905 25.84718646]\n",
      "Meta iteration 14/20\n",
      "Training model..\n"
     ]
    },
    {
     "name": "stderr",
     "output_type": "stream",
     "text": [
      "100%|██████████| 400/400 [00:02<00:00, 162.11it/s]\n",
      "  4%|▍         | 17/400 [00:00<00:02, 163.10it/s]"
     ]
    },
    {
     "name": "stdout",
     "output_type": "stream",
     "text": [
      "-14.780817545236983\n",
      "H_mu: [[-0.00735447]\n",
      " [ 0.07317975]\n",
      " [-0.11198326]\n",
      " [ 0.05229393]]\n",
      "H_var: [[0.66352508]\n",
      " [0.72074712]\n",
      " [0.68966479]\n",
      " [0.74894672]]\n",
      "H_error: [[1.62914097]\n",
      " [1.69793653]\n",
      " [1.66092117]\n",
      " [1.73083416]]\n",
      "lik_noise: [0.01975831]\n",
      "kern_var: 1.678871339279472\n",
      "kern_ls: [ 3.36752359  6.15183973 50.74962224 27.50904592]\n",
      "Meta iteration 15/20\n",
      "Training model..\n"
     ]
    },
    {
     "name": "stderr",
     "output_type": "stream",
     "text": [
      "100%|██████████| 400/400 [00:02<00:00, 161.64it/s]\n",
      "  4%|▍         | 17/400 [00:00<00:02, 161.85it/s]"
     ]
    },
    {
     "name": "stdout",
     "output_type": "stream",
     "text": [
      "-14.54648867083404\n",
      "H_mu: [[-0.0205768 ]\n",
      " [ 0.00612842]\n",
      " [-0.02694093]\n",
      " [ 0.00606104]]\n",
      "H_var: [[0.70280861]\n",
      " [0.73436223]\n",
      " [0.75542532]\n",
      " [0.75924634]]\n",
      "H_error: [[1.67667362]\n",
      " [1.71389875]\n",
      " [1.73830414]\n",
      " [1.74269486]]\n",
      "lik_noise: [0.0190433]\n",
      "kern_var: 1.7100411645575226\n",
      "kern_ls: [ 3.40963912  6.23610737 53.25903603 29.17369562]\n",
      "Meta iteration 16/20\n",
      "Training model..\n"
     ]
    },
    {
     "name": "stderr",
     "output_type": "stream",
     "text": [
      "100%|██████████| 400/400 [00:02<00:00, 161.50it/s]\n",
      "  4%|▍         | 17/400 [00:00<00:02, 162.59it/s]"
     ]
    },
    {
     "name": "stdout",
     "output_type": "stream",
     "text": [
      "-17.288035244578225\n",
      "H_mu: [[-0.0003805 ]\n",
      " [-0.04264546]\n",
      " [ 0.04739659]\n",
      " [ 0.02909798]]\n",
      "H_var: [[0.68001155]\n",
      " [0.73076566]\n",
      " [0.75271468]\n",
      " [0.78397795]]\n",
      "H_error: [[1.64925626]\n",
      " [1.70969665]\n",
      " [1.73518262]\n",
      " [1.77085058]]\n",
      "lik_noise: [0.01935854]\n",
      "kern_var: 1.7689536478099401\n",
      "kern_ls: [ 3.42244087  6.30935564 55.47178983 30.83968571]\n",
      "Meta iteration 17/20\n",
      "Training model..\n"
     ]
    },
    {
     "name": "stderr",
     "output_type": "stream",
     "text": [
      " 13%|█▎        | 51/400 [00:00<00:02, 162.09it/s]"
     ]
    }
   ],
   "source": [
    "# structured learning \n",
    "\n",
    "def basestocklevel(dataset):\n",
    "    inj_data = []\n",
    "    withd_data = []\n",
    "    for i in range(1, len(dataset)):\n",
    "        if dataset[i, 3] > dataset[i, 0]:\n",
    "            inj_data.append(dataset[i, :])\n",
    "        elif dataset[i, 3] < dataset[i, 0]:\n",
    "            withd_data.append(dataset[i, :])\n",
    "    return inj_data, withd_data\n",
    "\n",
    "\n",
    "Injection_Data,  Withdrawal_Data= basestocklevel(dataset_train)\n",
    "Injection_Data_arr = np.vstack(Injection_Data)\n",
    "Withdrawal_Data_arr = np.vstack(Withdrawal_Data)\n",
    "\n",
    "\n",
    "\n",
    "RMSerror_SML = []\n",
    "\n",
    "RMSerror = 0\n",
    "\n",
    "def create_model(**kwargs):\n",
    "    if kwargs[\"model_name\"] == \"MLSVGP\": \n",
    "        kernel = kernels.RBF(kwargs[\"dim_in\"] + kwargs[\"dim_h\"], ARD=True)\n",
    "        Z= np.random.randn(kwargs[\"n_inducing\"], kwargs[\"dim_in\"]+kwargs[\"dim_h\"])\n",
    "        mean_func = None\n",
    "        likelihood = MultiGaussian(dim=kwargs[\"dim_out\"])\n",
    "        model = MLSVGP(\n",
    "              dim_in=kwargs[\"dim_in\"], dim_out=kwargs[\"dim_out\"],\n",
    "                dim_h=kwargs[\"dim_h\"], num_h=kwargs[\"n_env\"],\n",
    "                kern=kernel, likelihood=likelihood, mean_function=mean_func,\n",
    "                Z=Z, name=kwargs[\"model_name\"])\n",
    "    return model\n",
    "\n",
    "#number of inducing points {10, 15, 20, 25, 30, 35}\n",
    "num = 10\n",
    "kwargs= {\"n_active_tasks\": 4, \"learning_rate\": 0.01, \"n_inducing\" : num,  \"batch_size\": 10,\n",
    "        \"train_steps\":400, \"infer_steps\": 100, \"dim_in\": 3, \"dim_out\":1, \"dim_h\": 1, \"n_env\":4, \"meta_test_iters\":0,\n",
    "        \"model_name\": \"MLSVGP\",\"seed\":1, \"meta_train_iters\": 20, \"n_train_tasks\":4}\n",
    "\n",
    "\n",
    "\n",
    "model_SML = create_model(**kwargs)\n",
    "\n",
    "Inference_inj_SML = MAIN(model_SML, Injection_Data_arr, **kwargs) \n",
    "Inference_wid_SML = MAIN(model_SML, Withdrawal_Data_arr, **kwargs) \n",
    "\n",
    "run_main(Inference_inj_SML, Injection_Data_arr, Injection_Data_arr, **kwargs) \n",
    "run_main(Inference_wid_SML, Withdrawal_Data_arr, Withdrawal_Data_arr, **kwargs) \n",
    "\n",
    "N = observation_test.shape[0]\n",
    "M = observation_test.shape[1]\n",
    "xx_test= np.zeros((N,M,3))\n",
    "for j in range(N):\n",
    "    for dim in range(M):\n",
    "        xx_test[j,dim,0] = observation_test[j, dim]\n",
    "        xx_test[j,dim,1] = capacity_test[j, dim]\n",
    "        xx_test[j,dim,2] = actual_price_test[j, dim]\n",
    "\n",
    "def inventory_pred(xx, ids):\n",
    "    count = 0\n",
    "    n_Trials = 10000\n",
    "    y_pred = np.zeros((n_Trials, N, M))\n",
    "    base_w_mean, base_w_var, h_w_mean, hw_var  = Inference_wid_SML.predict(xx, ids, True)\n",
    "    base_inj_mean, base_inj_var, h_inj_mean, h_inj_var  = Inference_inj_SML.predict(xx, ids, True)\n",
    "    print(\"base_w_mean\", base_w_mean)\n",
    "    print(\"base_inj_mean\", base_inj_mean)\n",
    "    count = 0\n",
    "    for j in range(N):\n",
    "        for i in range(M):\n",
    "            for k in range(n_Trials):\n",
    "                base_inj = np.random.normal(base_inj_mean[j, i, 0], np.sqrt(base_inj_var[j, i, 0]), 1)\n",
    "                base_w = np.random.normal(base_w_mean[j, i, 0], np.sqrt(base_w_var[j, i, 0]), 1)\n",
    "                if base_w > base_inj:\n",
    "                    if xx_test[j, i, 0] <= base_inj:  \n",
    "                        y_pred[k, j, i] =  base_inj\n",
    "                    elif xx_test[j, i, 0] >= base_w:\n",
    "                        y_pred[k, j, i] =  base_w\n",
    "                    else:\n",
    "                        y_pred[k, j, i] = xx[j, i, 0]\n",
    "                else:\n",
    "                    if xx_test[j, i, 0] <= base_w:  \n",
    "                        y_pred[k, j, i] =  base_w\n",
    "                    elif xx_test[j, i, 0] >= base_inj:\n",
    "                        y_pred[k, j, i] =  base_inj\n",
    "                    else:\n",
    "                        y_pred[k, j, i] = xx[j, i, 0]   \n",
    "    return y_pred\n",
    "y_pred_SML = inventory_pred(xx_test, actual_ids_test.reshape(-1))\n",
    "\n",
    "experiment_path = \"Proportional inventory-experiments-SML/70/\"\n",
    "if not os.path.exists(experiment_path):\n",
    "    os.makedirs(experiment_path)\n",
    "if not os.path.exists(experiment_path + \"/experiment with {} inducing points/\".format(num)):\n",
    "    os.makedirs(experiment_path + \"/experiment with {} inducing points/\".format(num))\n",
    "config_path = experiment_path + \"/experiment with {} inducing points/ config.json\".format(num)\n",
    "with open(config_path, \"w\") as f:\n",
    "    json.dump(kwargs, f)\n",
    "\n",
    "mean_y_pred_SML = np.mean(y_pred_SML, axis = 0)\n",
    "std_y_pred_SML = np.std(y_pred_SML, axis = 0)\n",
    "\n",
    "img_path = experiment_path + \"/experiment with {} inducing points/\".format(num)\n",
    "if not os.path.exists(img_path):\n",
    "    os.makedirs(img_path)\n",
    "config_path = experiment_path + \"/experiment with {} inducing points/ RMSerror.json\".format(num)\n",
    "n_Trials = 10000\n",
    "\n",
    "#########################################\n",
    "max_obs = 0\n",
    "min_obs = 100000000000000000\n",
    "\n",
    "for i in range(N):\n",
    "    if max_obs < max(observation_test[i, :]):\n",
    "        max_obs =  max(observation_test[i, :])\n",
    "    if min_obs > min(observation_test[i, :]):\n",
    "        min_obs =  min(observation_test[i, :])\n",
    "#############################################################\n",
    "\n",
    "for k in range(n_Trials):\n",
    "    RMSerror += sum(sum((observation_test[:, :] - y_pred_SML[k, :, :])**2))\n",
    "\n",
    "RMSerror_SML.append(np.sqrt(RMSerror/ (n_Trials*N*M))/(max_obs-min_obs))\n",
    "\n",
    "mean_y_pred_SML = np.mean(y_pred_SML, axis = 0)\n",
    "std_y_pred_SML = np.std(y_pred_SML, axis = 0)\n",
    "for i in range(N):\n",
    "    plt.figure()\n",
    "    img_path = experiment_path + \"/experiment with {} inducing points/\".format(num)\n",
    "    img_path += \"/img_user:{}.png\".format(i)\n",
    "    plt.plot(actual_price_test[0, :], observation_test[i, :], 'o', label= 'actual inventory')   \n",
    "    plt.plot(actual_price_test[0, :], mean_y_pred_SML[i, :] + 2* std_y_pred_SML[i, :], 'x' ,label= 'upper confidence') \n",
    "    plt.plot(actual_price_test[0, :], mean_y_pred_SML[i, :] - 2* std_y_pred_SML[i, :], 'x' ,label= 'lower confidence')  \n",
    "    plt.legend()\n",
    "    plt.xlabel('$Price$', fontsize=13)\n",
    "    plt.ylabel('$y = f(x,h)$', fontsize=13)\n",
    "    plt.title(('Inventory of user:{}'. format(i+1)))\n",
    "    plt.savefig(img_path)\n",
    "    \n",
    "RMS = {}\n",
    "RMS['RMSerror'] = RMSerror_SML\n",
    "with open(config_path, \"w\") as f:\n",
    "    json.dump(RMS, f)"
   ]
  },
  {
   "cell_type": "code",
   "execution_count": null,
   "metadata": {},
   "outputs": [],
   "source": [
    "RMSerror_SML"
   ]
  },
  {
   "cell_type": "markdown",
   "metadata": {},
   "source": [
    "# Uniformly split in the inventory data"
   ]
  },
  {
   "cell_type": "code",
   "execution_count": 4,
   "metadata": {},
   "outputs": [],
   "source": [
    "##############\n",
    "#Finding the best overbooking level, alpha\n",
    "\n",
    "p = 1\n",
    "c = 1.2\n",
    "T_capacity = 1235000\n",
    "max_prof = 0\n",
    "dscontfac = 0.99\n",
    "Total_cost = 0\n",
    "prof_lst = []\n",
    "for alpha in np.arange(0, 1, 0.01):\n",
    "    revenue = (alpha+1) *T_capacity\n",
    "    for time in range(M):\n",
    "        unitcost = 0\n",
    "        for itr in range(n_Trials):\n",
    "            sum_inv = 0\n",
    "            for user in range(N):\n",
    "                sum_inv += y_pred_SML[itr,  user, time]\n",
    "            if (1-alpha)*T_capacity < sum_inv:\n",
    "                unitcost += c*(-(1-alpha)*T_capacity + sum_inv)\n",
    "        average_cost= unitcost/n_Trials\n",
    "        discounted_cost = (dscontfac**time) * average_cost\n",
    "        Total_cost += discounted_cost\n",
    "    profit = revenue - Total_cost\n",
    "    prof_lst.append(profit)\n",
    "    if profit > max_prof:\n",
    "        opt_prof = profit\n",
    "        opt_alpha = alpha\n",
    "    \n",
    "\n",
    "config_path = experiment_path + \"/experiment with {} inducing points/alpha.json\".format(num)\n",
    "            \n",
    "\n",
    "overbooking_value = {}\n",
    "overbooking_value['alpha'] = opt_alpha\n",
    "with open(config_path, \"w\") as f:\n",
    "    json.dump(overbooking_value, f)        \n"
   ]
  },
  {
   "cell_type": "code",
   "execution_count": 5,
   "metadata": {},
   "outputs": [
    {
     "data": {
      "text/plain": [
       "0.41000000000000003"
      ]
     },
     "execution_count": 5,
     "metadata": {},
     "output_type": "execute_result"
    }
   ],
   "source": [
    "opt_alpha"
   ]
  },
  {
   "cell_type": "code",
   "execution_count": null,
   "metadata": {},
   "outputs": [],
   "source": []
  }
 ],
 "metadata": {
  "kernelspec": {
   "display_name": "Python 3",
   "language": "python",
   "name": "python3"
  },
  "language_info": {
   "codemirror_mode": {
    "name": "ipython",
    "version": 3
   },
   "file_extension": ".py",
   "mimetype": "text/x-python",
   "name": "python",
   "nbconvert_exporter": "python",
   "pygments_lexer": "ipython3",
   "version": "3.6.8"
  }
 },
 "nbformat": 4,
 "nbformat_minor": 2
}
