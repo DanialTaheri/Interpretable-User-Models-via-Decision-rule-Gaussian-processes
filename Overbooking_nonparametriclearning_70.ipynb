{
 "cells": [
  {
   "cell_type": "markdown",
   "metadata": {},
   "source": [
    "# Splitting data based on the user capacity"
   ]
  },
  {
   "cell_type": "code",
   "execution_count": 1,
   "metadata": {
    "scrolled": true
   },
   "outputs": [
    {
     "name": "stdout",
     "output_type": "stream",
     "text": [
      "WARNING:tensorflow:From /home/smohse3/anaconda3/envs/py36/lib/python3.6/site-packages/tensorflow/python/framework/op_def_library.py:263: colocate_with (from tensorflow.python.framework.ops) is deprecated and will be removed in a future version.\n",
      "Instructions for updating:\n",
      "Colocations handled automatically by placer.\n"
     ]
    },
    {
     "name": "stderr",
     "output_type": "stream",
     "text": [
      "WARNING:tensorflow:From /home/smohse3/anaconda3/envs/py36/lib/python3.6/site-packages/tensorflow/python/framework/op_def_library.py:263: colocate_with (from tensorflow.python.framework.ops) is deprecated and will be removed in a future version.\n",
      "Instructions for updating:\n",
      "Colocations handled automatically by placer.\n"
     ]
    },
    {
     "name": "stdout",
     "output_type": "stream",
     "text": [
      "[1.0]\n",
      "WARNING:tensorflow:From /home/smohse3/Overbooking_metalearning/Proportional inventory/models.py:171: Normal.__init__ (from tensorflow.python.ops.distributions.normal) is deprecated and will be removed after 2019-01-01.\n",
      "Instructions for updating:\n",
      "The TensorFlow Distributions library has moved to TensorFlow Probability (https://github.com/tensorflow/probability). You should update all references to use `tfp.distributions` instead of `tf.distributions`.\n"
     ]
    },
    {
     "name": "stderr",
     "output_type": "stream",
     "text": [
      "WARNING:tensorflow:From /home/smohse3/Overbooking_metalearning/Proportional inventory/models.py:171: Normal.__init__ (from tensorflow.python.ops.distributions.normal) is deprecated and will be removed after 2019-01-01.\n",
      "Instructions for updating:\n",
      "The TensorFlow Distributions library has moved to TensorFlow Probability (https://github.com/tensorflow/probability). You should update all references to use `tfp.distributions` instead of `tf.distributions`.\n"
     ]
    },
    {
     "name": "stdout",
     "output_type": "stream",
     "text": [
      "WARNING:tensorflow:From /home/smohse3/anaconda3/envs/py36/lib/python3.6/site-packages/tensorflow/python/ops/distributions/normal.py:160: Distribution.__init__ (from tensorflow.python.ops.distributions.distribution) is deprecated and will be removed after 2019-01-01.\n",
      "Instructions for updating:\n",
      "The TensorFlow Distributions library has moved to TensorFlow Probability (https://github.com/tensorflow/probability). You should update all references to use `tfp.distributions` instead of `tf.distributions`.\n"
     ]
    },
    {
     "name": "stderr",
     "output_type": "stream",
     "text": [
      "WARNING:tensorflow:From /home/smohse3/anaconda3/envs/py36/lib/python3.6/site-packages/tensorflow/python/ops/distributions/normal.py:160: Distribution.__init__ (from tensorflow.python.ops.distributions.distribution) is deprecated and will be removed after 2019-01-01.\n",
      "Instructions for updating:\n",
      "The TensorFlow Distributions library has moved to TensorFlow Probability (https://github.com/tensorflow/probability). You should update all references to use `tfp.distributions` instead of `tf.distributions`.\n"
     ]
    },
    {
     "name": "stdout",
     "output_type": "stream",
     "text": [
      "WARNING:tensorflow:From /home/smohse3/Overbooking_metalearning/Proportional inventory/models.py:173: kl_divergence (from tensorflow.python.ops.distributions.kullback_leibler) is deprecated and will be removed after 2019-01-01.\n",
      "Instructions for updating:\n",
      "The TensorFlow Distributions library has moved to TensorFlow Probability (https://github.com/tensorflow/probability). You should update all references to use `tfp.distributions` instead of `tf.distributions`.\n"
     ]
    },
    {
     "name": "stderr",
     "output_type": "stream",
     "text": [
      "WARNING:tensorflow:From /home/smohse3/Overbooking_metalearning/Proportional inventory/models.py:173: kl_divergence (from tensorflow.python.ops.distributions.kullback_leibler) is deprecated and will be removed after 2019-01-01.\n",
      "Instructions for updating:\n",
      "The TensorFlow Distributions library has moved to TensorFlow Probability (https://github.com/tensorflow/probability). You should update all references to use `tfp.distributions` instead of `tf.distributions`.\n"
     ]
    },
    {
     "name": "stdout",
     "output_type": "stream",
     "text": [
      "WARNING:tensorflow:From /home/smohse3/anaconda3/envs/py36/lib/python3.6/site-packages/tensorflow/python/ops/array_grad.py:425: to_int32 (from tensorflow.python.ops.math_ops) is deprecated and will be removed in a future version.\n",
      "Instructions for updating:\n",
      "Use tf.cast instead.\n"
     ]
    },
    {
     "name": "stderr",
     "output_type": "stream",
     "text": [
      "WARNING:tensorflow:From /home/smohse3/anaconda3/envs/py36/lib/python3.6/site-packages/tensorflow/python/ops/array_grad.py:425: to_int32 (from tensorflow.python.ops.math_ops) is deprecated and will be removed in a future version.\n",
      "Instructions for updating:\n",
      "Use tf.cast instead.\n",
      "  0%|          | 0/400 [00:00<?, ?it/s]"
     ]
    },
    {
     "name": "stdout",
     "output_type": "stream",
     "text": [
      "Training model..\n"
     ]
    },
    {
     "name": "stderr",
     "output_type": "stream",
     "text": [
      "100%|██████████| 400/400 [00:07<00:00, 56.15it/s]\n",
      "  2%|▏         | 7/400 [00:00<00:06, 60.58it/s]"
     ]
    },
    {
     "name": "stdout",
     "output_type": "stream",
     "text": [
      "-3.2846613252626016\n",
      "Meta iteration 1/20\n",
      "Training model..\n"
     ]
    },
    {
     "name": "stderr",
     "output_type": "stream",
     "text": [
      "100%|██████████| 400/400 [00:06<00:00, 63.86it/s]\n",
      "  0%|          | 0/400 [00:00<?, ?it/s]"
     ]
    },
    {
     "name": "stdout",
     "output_type": "stream",
     "text": [
      "-2.7660133144850976\n",
      "H_mu: [[ 0.00362718]\n",
      " [ 0.11675913]\n",
      " [ 0.05407468]\n",
      " [-0.03175614]]\n",
      "H_var: [[0.89230739]\n",
      " [0.86917551]\n",
      " [0.73628104]\n",
      " [0.86167907]]\n",
      "H_error: [[1.88924047]\n",
      " [1.86459166]\n",
      " [1.7161364 ]\n",
      " [1.8565334 ]]\n",
      "lik_noise: [0.03853242]\n",
      "kern_var: 0.7071066717213539\n",
      "kern_ls: [ 4.43491751  3.0472546  51.76496092 48.87580404]\n",
      "Meta iteration 2/20\n",
      "Training model..\n"
     ]
    },
    {
     "name": "stderr",
     "output_type": "stream",
     "text": [
      "100%|██████████| 400/400 [00:06<00:00, 59.16it/s]\n",
      "  2%|▏         | 7/400 [00:00<00:05, 68.03it/s]"
     ]
    },
    {
     "name": "stdout",
     "output_type": "stream",
     "text": [
      "-11.126057297127968\n",
      "H_mu: [[ 0.00293125]\n",
      " [-0.01307383]\n",
      " [ 0.00175705]\n",
      " [ 0.04571799]]\n",
      "H_var: [[0.9181872 ]\n",
      " [0.97004406]\n",
      " [0.99180263]\n",
      " [0.83130247]]\n",
      "H_error: [[1.9164417 ]\n",
      " [1.96981629]\n",
      " [1.99178576]\n",
      " [1.8235158 ]]\n",
      "lik_noise: [0.03814901]\n",
      "kern_var: 0.8634754583031787\n",
      "kern_ls: [ 4.868201    3.36534259 75.89602252 77.10723437]\n",
      "Meta iteration 3/20\n",
      "Training model..\n"
     ]
    },
    {
     "name": "stderr",
     "output_type": "stream",
     "text": [
      "100%|██████████| 400/400 [00:06<00:00, 61.52it/s]\n",
      "  2%|▏         | 7/400 [00:00<00:06, 58.19it/s]"
     ]
    },
    {
     "name": "stdout",
     "output_type": "stream",
     "text": [
      "-10.557355376920306\n",
      "H_mu: [[ 0.03777941]\n",
      " [-0.02798758]\n",
      " [ 0.02368191]\n",
      " [ 0.03684963]]\n",
      "H_var: [[1.03320621]\n",
      " [0.97752161]\n",
      " [0.97645556]\n",
      " [0.98071148]]\n",
      "H_error: [[2.03293503]\n",
      " [1.97739385]\n",
      " [1.97631532]\n",
      " [1.98061756]]\n",
      "lik_noise: [0.03932045]\n",
      "kern_var: 0.8078149043475352\n",
      "kern_ls: [  4.73355214   3.42228054 105.38413103 119.31794819]\n",
      "Meta iteration 4/20\n",
      "Training model..\n"
     ]
    },
    {
     "name": "stderr",
     "output_type": "stream",
     "text": [
      "100%|██████████| 400/400 [00:06<00:00, 58.06it/s]\n",
      "  2%|▏         | 6/400 [00:00<00:07, 55.73it/s]"
     ]
    },
    {
     "name": "stdout",
     "output_type": "stream",
     "text": [
      "-14.560899832099963\n",
      "H_mu: [[-0.01172902]\n",
      " [ 0.02307149]\n",
      " [ 0.00197808]\n",
      " [-0.0260692 ]]\n",
      "H_var: [[1.01345215]\n",
      " [1.00270013]\n",
      " [0.95525897]\n",
      " [0.94114942]]\n",
      "H_error: [[2.01340721]\n",
      " [2.0026983 ]\n",
      " [1.95474701]\n",
      " [1.94025711]]\n",
      "lik_noise: [0.03388032]\n",
      "kern_var: 0.9283824502064046\n",
      "kern_ls: [  4.99173327   3.60324919 156.80926    186.81850065]\n",
      "Meta iteration 5/20\n",
      "Training model..\n"
     ]
    },
    {
     "name": "stderr",
     "output_type": "stream",
     "text": [
      "100%|██████████| 400/400 [00:06<00:00, 54.11it/s]\n",
      "  2%|▏         | 6/400 [00:00<00:07, 54.07it/s]"
     ]
    },
    {
     "name": "stdout",
     "output_type": "stream",
     "text": [
      "-9.385324884767401\n",
      "H_mu: [[-0.0366382 ]\n",
      " [-0.00321212]\n",
      " [ 0.00569522]\n",
      " [-0.00942475]]\n",
      "H_var: [[0.97371855]\n",
      " [1.01671235]\n",
      " [0.96817473]\n",
      " [0.96872059]]\n",
      "H_error: [[1.97354356]\n",
      " [2.0166431 ]\n",
      " [1.96791741]\n",
      " [1.96847208]]\n",
      "lik_noise: [0.04443601]\n",
      "kern_var: 1.0159499562635064\n",
      "kern_ls: [  4.98056136   3.53383569 232.78848706 276.94096942]\n",
      "Meta iteration 6/20\n",
      "Training model..\n"
     ]
    },
    {
     "name": "stderr",
     "output_type": "stream",
     "text": [
      "100%|██████████| 400/400 [00:06<00:00, 57.15it/s]\n",
      "  2%|▏         | 6/400 [00:00<00:06, 59.75it/s]"
     ]
    },
    {
     "name": "stdout",
     "output_type": "stream",
     "text": [
      "-6.574367073485884\n",
      "H_mu: [[-0.00371345]\n",
      " [-0.00673211]\n",
      " [ 0.02754132]\n",
      " [-0.02031197]]\n",
      "H_var: [[0.98648513]\n",
      " [1.01792448]\n",
      " [0.97356586]\n",
      " [1.00686111]]\n",
      "H_error: [[1.98643915]\n",
      " [2.01784487]\n",
      " [1.97338882]\n",
      " [2.00684939]]\n",
      "lik_noise: [0.04235903]\n",
      "kern_var: 1.018066354437542\n",
      "kern_ls: [  5.12552284   3.76634763 329.70755174 385.13887112]\n",
      "Meta iteration 7/20\n",
      "Training model..\n"
     ]
    },
    {
     "name": "stderr",
     "output_type": "stream",
     "text": [
      "100%|██████████| 400/400 [00:06<00:00, 61.57it/s]\n",
      "  2%|▏         | 6/400 [00:00<00:06, 58.46it/s]"
     ]
    },
    {
     "name": "stdout",
     "output_type": "stream",
     "text": [
      "-3.0912056948510847\n",
      "H_mu: [[ 0.00410874]\n",
      " [-0.02542225]\n",
      " [-0.00256581]\n",
      " [ 0.01182666]]\n",
      "H_var: [[0.99718715]\n",
      " [0.96951501]\n",
      " [0.99548145]\n",
      " [1.01889596]]\n",
      "H_error: [[1.99718517]\n",
      " [1.96927907]\n",
      " [1.99547634]\n",
      " [2.01880753]]\n",
      "lik_noise: [0.04242427]\n",
      "kern_var: 0.9914284890246126\n",
      "kern_ls: [  5.22039454   3.80694817 457.55567632 546.91660357]\n",
      "Meta iteration 8/20\n",
      "Training model..\n"
     ]
    },
    {
     "name": "stderr",
     "output_type": "stream",
     "text": [
      "100%|██████████| 400/400 [00:06<00:00, 58.12it/s]\n",
      "  2%|▏         | 6/400 [00:00<00:07, 52.82it/s]"
     ]
    },
    {
     "name": "stdout",
     "output_type": "stream",
     "text": [
      "-14.289467346425676\n",
      "H_mu: [[-0.00070255]\n",
      " [-0.00552303]\n",
      " [ 0.00838121]\n",
      " [-0.00112054]]\n",
      "H_var: [[1.00795284]\n",
      " [0.99961659]\n",
      " [0.99696707]\n",
      " [0.99811997]]\n",
      "H_error: [[2.00793709]\n",
      " [1.99961655]\n",
      " [1.99696477]\n",
      " [1.99811909]]\n",
      "lik_noise: [0.03517773]\n",
      "kern_var: 1.0030497996055425\n",
      "kern_ls: [  4.90223687   3.68819782 590.2193439  743.99357136]\n",
      "Meta iteration 9/20\n",
      "Training model..\n"
     ]
    },
    {
     "name": "stderr",
     "output_type": "stream",
     "text": [
      "100%|██████████| 400/400 [00:06<00:00, 59.42it/s]\n",
      "  2%|▏         | 7/400 [00:00<00:06, 64.98it/s]"
     ]
    },
    {
     "name": "stdout",
     "output_type": "stream",
     "text": [
      "-5.786435935648218\n",
      "H_mu: [[0.00366348]\n",
      " [0.00018771]\n",
      " [0.00047468]\n",
      " [0.00693288]]\n",
      "H_var: [[1.00210663]\n",
      " [0.98377821]\n",
      " [1.00446369]\n",
      " [0.99326482]]\n",
      "H_error: [[2.00210552]\n",
      " [1.98371189]\n",
      " [2.00445872]\n",
      " [1.99325344]]\n",
      "lik_noise: [0.04029689]\n",
      "kern_var: 0.9207308459520867\n",
      "kern_ls: [  4.93473838   3.60569138 696.34048771 967.14192823]\n",
      "Meta iteration 10/20\n",
      "Training model..\n"
     ]
    },
    {
     "name": "stderr",
     "output_type": "stream",
     "text": [
      "100%|██████████| 400/400 [00:07<00:00, 55.61it/s]\n",
      "  2%|▏         | 6/400 [00:00<00:06, 57.04it/s]"
     ]
    },
    {
     "name": "stdout",
     "output_type": "stream",
     "text": [
      "-14.948159573002531\n",
      "H_mu: [[ 0.00797131]\n",
      " [-0.00185003]\n",
      " [ 0.00067841]\n",
      " [-0.00792779]]\n",
      "H_var: [[1.00132291]\n",
      " [1.00585391]\n",
      " [1.00657843]\n",
      " [1.00714683]]\n",
      "H_error: [[2.00132248]\n",
      " [2.00584537]\n",
      " [2.00656764]\n",
      " [2.00713411]]\n",
      "lik_noise: [0.03776617]\n",
      "kern_var: 0.9378908710054558\n",
      "kern_ls: [   5.00763143    3.68615322  831.5655606  1197.68360223]\n",
      "Meta iteration 11/20\n",
      "Training model..\n"
     ]
    },
    {
     "name": "stderr",
     "output_type": "stream",
     "text": [
      "100%|██████████| 400/400 [00:06<00:00, 55.42it/s]\n",
      "  2%|▏         | 6/400 [00:00<00:07, 50.93it/s]"
     ]
    },
    {
     "name": "stdout",
     "output_type": "stream",
     "text": [
      "14.564035760715267\n",
      "H_mu: [[-0.00085466]\n",
      " [ 0.00125571]\n",
      " [ 0.00047291]\n",
      " [-0.00042555]]\n",
      "H_var: [[1.00051415]\n",
      " [0.99653624]\n",
      " [1.00011951]\n",
      " [0.99755264]]\n",
      "H_error: [[2.00051408]\n",
      " [1.99653323]\n",
      " [2.00011951]\n",
      " [1.99755115]]\n",
      "lik_noise: [0.08927901]\n",
      "kern_var: 0.9052358971034453\n",
      "kern_ls: [   5.056735      3.59264738 1029.91451289 1449.74930456]\n",
      "Meta iteration 12/20\n",
      "Training model..\n"
     ]
    },
    {
     "name": "stderr",
     "output_type": "stream",
     "text": [
      "100%|██████████| 400/400 [00:07<00:00, 52.26it/s]\n",
      "  2%|▏         | 6/400 [00:00<00:07, 54.09it/s]"
     ]
    },
    {
     "name": "stdout",
     "output_type": "stream",
     "text": [
      "-0.21007791188541916\n",
      "H_mu: [[-7.53206792e-04]\n",
      " [ 2.28140694e-05]\n",
      " [ 7.15168415e-05]\n",
      " [-1.91522603e-02]]\n",
      "H_var: [[1.00025158]\n",
      " [1.00038903]\n",
      " [0.99513443]\n",
      " [0.99469998]]\n",
      "H_error: [[2.00025157]\n",
      " [2.000389  ]\n",
      " [1.9951285 ]\n",
      " [1.99469293]]\n",
      "lik_noise: [0.04804367]\n",
      "kern_var: 0.953149830345201\n",
      "kern_ls: [   4.89104547    3.67502333 1207.82851634 1561.88420139]\n",
      "Meta iteration 13/20\n",
      "Training model..\n"
     ]
    },
    {
     "name": "stderr",
     "output_type": "stream",
     "text": [
      "100%|██████████| 400/400 [00:07<00:00, 53.83it/s]\n",
      "  2%|▏         | 6/400 [00:00<00:07, 55.81it/s]"
     ]
    },
    {
     "name": "stdout",
     "output_type": "stream",
     "text": [
      "-16.848948621008397\n",
      "H_mu: [[ 0.00424132]\n",
      " [ 0.00870255]\n",
      " [-0.00898512]\n",
      " [ 0.06201691]]\n",
      "H_var: [[1.00025195]\n",
      " [0.99296439]\n",
      " [1.00026529]\n",
      " [1.02495669]]\n",
      "H_error: [[2.00025193]\n",
      " [1.99295197]\n",
      " [2.00026527]\n",
      " [2.0248029 ]]\n",
      "lik_noise: [0.03259043]\n",
      "kern_var: 0.9565809724395703\n",
      "kern_ls: [   4.95682138    3.64575733 1426.31804855 1781.82051049]\n",
      "Meta iteration 14/20\n",
      "Training model..\n"
     ]
    },
    {
     "name": "stderr",
     "output_type": "stream",
     "text": [
      "100%|██████████| 400/400 [00:07<00:00, 53.57it/s]\n",
      "  2%|▏         | 6/400 [00:00<00:07, 55.75it/s]"
     ]
    },
    {
     "name": "stdout",
     "output_type": "stream",
     "text": [
      "1.5015553244076827\n",
      "H_mu: [[-0.00362585]\n",
      " [ 0.01615764]\n",
      " [-0.00135442]\n",
      " [ 0.00214736]]\n",
      "H_var: [[1.00822497]\n",
      " [0.99451318]\n",
      " [1.00579349]\n",
      " [1.00118763]]\n",
      "H_error: [[2.00820813]\n",
      " [1.99450563]\n",
      " [2.00578512]\n",
      " [2.00118728]]\n",
      "lik_noise: [0.0400435]\n",
      "kern_var: 1.0680383441636039\n",
      "kern_ls: [   5.24077946    3.76985356 1635.85776884 2034.3365581 ]\n",
      "Meta iteration 15/20\n",
      "Training model..\n"
     ]
    },
    {
     "name": "stderr",
     "output_type": "stream",
     "text": [
      "100%|██████████| 400/400 [00:07<00:00, 52.44it/s]\n",
      "  2%|▏         | 7/400 [00:00<00:06, 60.37it/s]"
     ]
    },
    {
     "name": "stdout",
     "output_type": "stream",
     "text": [
      "-3.7503078088503186\n",
      "H_mu: [[ 0.00013381]\n",
      " [ 0.00041738]\n",
      " [ 0.00023806]\n",
      " [-0.00010218]]\n",
      "H_var: [[1.00035534]\n",
      " [0.99933123]\n",
      " [1.00173755]\n",
      " [1.00032847]]\n",
      "H_error: [[2.00035531]\n",
      " [1.99933112]\n",
      " [2.0017368 ]\n",
      " [2.00032844]]\n",
      "lik_noise: [0.03370602]\n",
      "kern_var: 0.789944930899958\n",
      "kern_ls: [   4.71289389    3.39547506 1827.39827335 2274.40717176]\n",
      "Meta iteration 16/20\n",
      "Training model..\n"
     ]
    },
    {
     "name": "stderr",
     "output_type": "stream",
     "text": [
      "100%|██████████| 400/400 [00:07<00:00, 54.76it/s]\n",
      "  2%|▏         | 6/400 [00:00<00:07, 52.38it/s]"
     ]
    },
    {
     "name": "stdout",
     "output_type": "stream",
     "text": [
      "-9.30221684861834\n",
      "H_mu: [[-7.26239412e-05]\n",
      " [ 1.89225744e-04]\n",
      " [-9.74142829e-04]\n",
      " [-2.07043669e-02]]\n",
      "H_var: [[0.99818153]\n",
      " [0.99993046]\n",
      " [1.00550434]\n",
      " [1.00054737]]\n",
      "H_error: [[1.9981807 ]\n",
      " [1.99993046]\n",
      " [2.00549679]\n",
      " [2.00054729]]\n",
      "lik_noise: [0.03736188]\n",
      "kern_var: 0.88019935759851\n",
      "kern_ls: [   5.05840151    3.56639314 2087.28820878 2536.48707426]\n",
      "Meta iteration 17/20\n",
      "Training model..\n"
     ]
    },
    {
     "name": "stderr",
     "output_type": "stream",
     "text": [
      "100%|██████████| 400/400 [00:07<00:00, 52.08it/s]\n",
      "  2%|▏         | 6/400 [00:00<00:07, 53.50it/s]"
     ]
    },
    {
     "name": "stdout",
     "output_type": "stream",
     "text": [
      "-4.580814029040271\n",
      "H_mu: [[-2.84199696e-04]\n",
      " [ 8.68089513e-04]\n",
      " [ 5.10675493e-05]\n",
      " [ 1.99717557e-05]]\n",
      "H_var: [[0.999242  ]\n",
      " [0.99927348]\n",
      " [1.00028649]\n",
      " [1.00057239]]\n",
      "H_error: [[1.99924185]\n",
      " [1.99927334]\n",
      " [2.00028647]\n",
      " [2.00057231]]\n",
      "lik_noise: [0.0415399]\n",
      "kern_var: 0.3635212476665337\n",
      "kern_ls: [4.08705816e+00 2.74650465e+00 2.27230450e+03 2.74751269e+03]\n",
      "Meta iteration 18/20\n",
      "Training model..\n"
     ]
    },
    {
     "name": "stderr",
     "output_type": "stream",
     "text": [
      "100%|██████████| 400/400 [00:08<00:00, 47.58it/s]\n",
      "  1%|▏         | 5/400 [00:00<00:08, 46.51it/s]"
     ]
    },
    {
     "name": "stdout",
     "output_type": "stream",
     "text": [
      "-7.143423615791124\n",
      "H_mu: [[ 4.79606311e-05]\n",
      " [-6.77970208e-04]\n",
      " [-2.27554557e-03]\n",
      " [ 1.04767553e-02]]\n",
      "H_var: [[1.00450883]\n",
      " [0.99989996]\n",
      " [0.99844586]\n",
      " [1.00004544]]\n",
      "H_error: [[2.00450376]\n",
      " [1.99989996]\n",
      " [1.99844526]\n",
      " [2.00004544]]\n",
      "lik_noise: [0.03957934]\n",
      "kern_var: 0.8874975702331871\n",
      "kern_ls: [   4.85017884    3.52709165 2283.6341695  2843.30078996]\n",
      "Meta iteration 19/20\n",
      "Training model..\n"
     ]
    },
    {
     "name": "stderr",
     "output_type": "stream",
     "text": [
      "100%|██████████| 400/400 [00:08<00:00, 49.87it/s]\n",
      "  1%|▏         | 5/400 [00:00<00:08, 46.60it/s]"
     ]
    },
    {
     "name": "stdout",
     "output_type": "stream",
     "text": [
      "-11.09213251596955\n",
      "H_mu: [[ 0.0013975 ]\n",
      " [-0.00104763]\n",
      " [-0.00091381]\n",
      " [ 0.00021101]]\n",
      "H_var: [[1.00151575]\n",
      " [0.99972918]\n",
      " [1.00069671]\n",
      " [0.99939545]]\n",
      "H_error: [[2.00151518]\n",
      " [1.99972916]\n",
      " [2.00069659]\n",
      " [1.99939536]]\n",
      "lik_noise: [0.03270148]\n",
      "kern_var: 0.8616906640460711\n",
      "kern_ls: [   5.03215305    3.54875144 2296.41956017 3058.46999446]\n",
      "Meta iteration 20/20\n",
      "Training model..\n"
     ]
    },
    {
     "name": "stderr",
     "output_type": "stream",
     "text": [
      "100%|██████████| 400/400 [00:07<00:00, 51.28it/s]\n",
      "  1%|▏         | 5/400 [00:00<00:08, 47.57it/s]"
     ]
    },
    {
     "name": "stdout",
     "output_type": "stream",
     "text": [
      "1.207059308775587\n",
      "H_mu: [[0.00099882]\n",
      " [0.00502864]\n",
      " [0.00086172]\n",
      " [0.00074027]]\n",
      "H_var: [[1.00075991]\n",
      " [0.99977723]\n",
      " [1.00274668]\n",
      " [0.99869824]]\n",
      "H_error: [[2.00075977]\n",
      " [1.99977722]\n",
      " [2.00274479]\n",
      " [1.99869782]]\n",
      "lik_noise: [0.05066857]\n",
      "kern_var: 0.955392009421045\n",
      "kern_ls: [   5.26799713    3.86467536 2371.04969963 3300.51687952]\n",
      "Training model..\n"
     ]
    },
    {
     "name": "stderr",
     "output_type": "stream",
     "text": [
      "100%|██████████| 400/400 [00:07<00:00, 50.90it/s]\n"
     ]
    },
    {
     "name": "stdout",
     "output_type": "stream",
     "text": [
      "-7.436786194719916\n",
      "(48, 3)\n",
      "H_mu [[ 3.24468731e-04]\n",
      " [ 1.51931013e-04]\n",
      " [-1.32128567e-02]\n",
      " [-7.77450208e-05]]\n",
      "H_var [[1.00120582]\n",
      " [0.99917358]\n",
      " [0.99963241]\n",
      " [1.00052595]]\n",
      "ML: [12.08490058] [0.28443039]\n"
     ]
    }
   ],
   "source": [
    "####Nonparametric meta learning\n",
    "import pickle\n",
    "%load_ext autoreload\n",
    "%autoreload 2\n",
    "import sys\n",
    "import numpy as np\n",
    "import scipy\n",
    "import matplotlib\n",
    "import matplotlib.pyplot as plt\n",
    "from matplotlib import cm\n",
    "from mpl_toolkits.axes_grid1 import make_axes_locatable\n",
    "import matplotlib.gridspec as gridspec\n",
    "import seaborn as sns\n",
    "import argparse, os\n",
    "import gpflow\n",
    "from gpflow import kernels\n",
    "from likelihoods import *\n",
    "from data import *\n",
    "from models import MLSVGP, BASESVGP\n",
    "from meta_loop import meta_loop\n",
    "from main import MAIN\n",
    "from run_main import *\n",
    "import json\n",
    "from sklearn.model_selection import train_test_split\n",
    "import tensorflow as tf\n",
    "\n",
    "observation_train = pickle.load(open('Inventory_norm_train70.pickle', 'rb'))\n",
    "observation_test = pickle.load(open('Inventory_norm_test70.pickle', 'rb'))\n",
    "observation_train = np.log(observation_train)\n",
    "observation_test = np.log(observation_test)\n",
    "prices = pickle.load(open('ActualPrices.pickle', 'rb'))\n",
    "prices_random_train = prices[0 : observation_train.shape[1]].reshape(-1,1)\n",
    "prices_random_test = prices[observation_train.shape[1]+1 :].reshape(-1,1)\n",
    "C = np.array(pickle.load(open('LeasedSpace.pickle', 'rb')))\n",
    "ids_train = np.zeros((observation_train.shape[0], observation_train.shape[1]))\n",
    "ids_test = np.zeros((observation_test.shape[0], observation_test.shape[1]))\n",
    "\n",
    "\n",
    "capacity_train = np.zeros((observation_train.shape[0], observation_train.shape[1]))\n",
    "capacity_test = np.zeros((observation_test.shape[0], observation_test.shape[1]))\n",
    "\n",
    "actual_price_train = np.zeros((observation_train.shape[0], observation_train.shape[1]))\n",
    "actual_price_test = np.zeros((observation_test.shape[0], observation_test.shape[1]))\n",
    "\n",
    "for i in range(observation_train.shape[0]):\n",
    "    for j in range(observation_train.shape[1]):       \n",
    "        ids_train[i, j]= i\n",
    "        capacity_train[i, j] = C[i]\n",
    "        actual_price_train[i,j] = prices_random_train[j]\n",
    "        \n",
    "for i in range(observation_test.shape[0]):\n",
    "    for j in range(observation_test.shape[1]):       \n",
    "        ids_test[i, j]= i\n",
    "        capacity_test[i, j] = C[i]\n",
    "        actual_price_test[i,j] = prices_random_test[j]\n",
    "        \n",
    "prior_observation_train = observation_train[:, :-1].reshape(-1,1)\n",
    "prior_observation_test = np.concatenate((observation_train[:, -1:], observation_test[:, :-1]), axis =1).reshape(-1,1)\n",
    "\n",
    "\n",
    "actual_observation_train = observation_train[:, 1:].reshape(-1,1)\n",
    "actual_observation_test =  observation_test[:, :].reshape(-1,1)\n",
    "\n",
    "User_capacity_train = capacity_train[:, :-1].reshape(-1,1)\n",
    "User_capacity_test = np.concatenate((capacity_train[:, -1:], capacity_test[:, :-1]), axis =1).reshape(-1,1)\n",
    "\n",
    "P_train = actual_price_train[:, 1:].reshape(-1,1)\n",
    "P_test = actual_price_test[:, :].reshape(-1,1)\n",
    "\n",
    "actual_ids_train =  ids_train[:, :-1].reshape(-1,1)\n",
    "actual_ids_test =  ids_test.reshape(-1,1)\n",
    "\n",
    "\n",
    "dataset_train= np.hstack((prior_observation_train, User_capacity_train, P_train , actual_observation_train , actual_ids_train))\n",
    "\n",
    "dataset_test= np.hstack((prior_observation_test, User_capacity_test, P_test , actual_observation_test , actual_ids_test))\n",
    "\n",
    "\n",
    "\n",
    "def create_model(**kwargs):\n",
    "    if kwargs[\"model_name\"] == \"MLSVGP\": \n",
    "        #kernel.clear() \n",
    "        kernel = kernels.RBF(kwargs[\"dim_in\"] + kwargs[\"dim_h\"], ARD=True)\n",
    "        Z= np.random.randn(kwargs[\"n_inducing\"], kwargs[\"dim_in\"]+kwargs[\"dim_h\"])\n",
    "        mean_func = None\n",
    "        likelihood = MultiGaussian(dim=kwargs[\"dim_out\"])\n",
    "        model = MLSVGP(\n",
    "              dim_in=kwargs[\"dim_in\"], dim_out=kwargs[\"dim_out\"],\n",
    "                dim_h=kwargs[\"dim_h\"], num_h=kwargs[\"n_env\"],\n",
    "                kern=kernel, likelihood=likelihood, mean_function=mean_func,\n",
    "                Z=Z, name=kwargs[\"model_name\"])\n",
    "        \n",
    "    return model\n",
    "\n",
    "#number of inducing points {10, 15, 20, 25, 30, 35}\n",
    "num = 10\n",
    "\n",
    "RMSerror= 0\n",
    "kwargs= {\"n_active_tasks\": 4, \"learning_rate\": 0.1, \"n_inducing\" : num,  \"batch_size\": 10,\n",
    "        \"train_steps\":400, \"infer_steps\": 100, \"dim_in\": 3, \"dim_out\":1, \"dim_h\": 1, \"n_env\":4, \"meta_test_iters\":0,\n",
    "        \"model_name\": \"MLSVGP\",\"seed\":1, \"meta_train_iters\": 20, \"n_train_tasks\":4}\n",
    "\n",
    "\n",
    "\n",
    "model_NonPML = create_model(**kwargs)\n",
    "Inference_NonPML = MAIN(model_NonPML, dataset_train, **kwargs) \n",
    "run_main(Inference_NonPML, dataset_train, dataset_train, **kwargs) \n",
    "\n",
    "N = observation_test.shape[0]\n",
    "M = observation_test.shape[1]\n",
    "xx_test= np.zeros((N,M,3))\n",
    "experiment_path = \"Proportional inventory-experiments-Non_parametric learning/70/\"\n",
    "if not os.path.exists(experiment_path):\n",
    "    os.makedirs(experiment_path)\n",
    "if not os.path.exists(experiment_path + \"/experiment with {} inducing points/\".format(num)):\n",
    "    os.makedirs(experiment_path + \"/experiment with {} inducing points/\".format(num))\n",
    "config_path = experiment_path + \"/experiment with {} inducing points/ config.json\".format(num)\n",
    "with open(config_path, \"w\") as f:\n",
    "    json.dump(kwargs, f)\n",
    "\n",
    "\n",
    "for j in range(N):\n",
    "    for dim in range(M):\n",
    "        xx_test[j,dim,0] = observation_test[j, dim]\n",
    "        xx_test[j,dim,1] = capacity_test[j, dim]\n",
    "        xx_test[j,dim,2] = actual_price_test[j, dim]\n",
    "\n",
    "def plot(xx, ids):\n",
    "    ymu, yvar, hmu, hvar = Inference_NonPML.predict(xx, ids, True)\n",
    "    img_path = experiment_path + \"/experiment with {} inducing points/\".format(num)\n",
    "    if not os.path.exists(img_path):\n",
    "        os.makedirs(img_path)\n",
    "    for i in range(len(np.unique(ids))):\n",
    "        img_path = experiment_path + \"/experiment with {} inducing points/\".format(num)\n",
    "        img_path += \"/img_user:{}.png\".format(i)\n",
    "        plt.figure()\n",
    "        plt.plot(actual_price_test[0, :], observation_test[i, :].reshape(-1,1), 'kx', mew=0.5)\n",
    "        plt.plot(actual_price_test[0, :], ymu[i,:,0] - 2*np.sqrt(yvar[i,:,0]), 'b*', alpha=0.3)\n",
    "        plt.plot(actual_price_test[0, :], ymu[i,:,0] + 2*np.sqrt(yvar[i,:,0]), 'r*', alpha=0.3)    \n",
    "        plt.xlabel('$Price$', fontsize=13)\n",
    "        plt.ylabel('$y = f(x,h)$', fontsize=13)\n",
    "        plt.title(('Non-parametric meta learning\\n' \n",
    "                   'User:{}'. format(i+1)))\n",
    "        plt.savefig(img_path)\n",
    "    return ymu, yvar\n",
    "\n",
    "\n",
    "y_mu, y_var = plot(xx_test, actual_ids_test.reshape(-1))\n",
    "\n",
    "config_path = experiment_path + \"/experiment with {} inducing points/RMSerror.json\".format(num)\n",
    "n_Trials = 10000\n",
    "y_pred_NonPML = np.zeros((n_Trials, N, M))\n",
    "for j in range(N):\n",
    "    for i in range(M):\n",
    "        for k in range(n_Trials):\n",
    "            y_pred_NonPML[k, j, i] = np.random.normal(y_mu[j, i, 0], np.sqrt(y_var[j, i, 0]), 1)\n",
    "#########################################\n",
    "max_obs = 0\n",
    "min_obs = 100000000000000000\n",
    "\n",
    "for i in range(N):\n",
    "    if max_obs < max(observation_test[i, :]):\n",
    "        max_obs =  max(observation_test[i, :])\n",
    "    if min_obs > min(observation_test[i, :]):\n",
    "        min_obs =  min(observation_test[i, :])\n",
    "#############################################################\n",
    "\n",
    "for k in range(n_Trials):\n",
    "    RMSerror += sum(sum((observation_test[:, :] - y_pred_NonPML[k, :, :])**2))\n",
    "RMSerror_NonPML = []\n",
    "RMSerror_NonPML.append(np.sqrt(RMSerror/ (n_Trials*N*M))/(max_obs -min_obs))\n",
    "RMS_NonPML = {}\n",
    "RMS_NonPML['RMSerror'] = RMSerror_NonPML\n",
    "with open(config_path, \"w\") as f:\n",
    "    json.dump(RMSerror_NonPML, f)\n"
   ]
  },
  {
   "cell_type": "code",
   "execution_count": 2,
   "metadata": {},
   "outputs": [
    {
     "data": {
      "text/plain": [
       "[2.834317577363397]"
      ]
     },
     "execution_count": 2,
     "metadata": {},
     "output_type": "execute_result"
    }
   ],
   "source": [
    "RMSerror_NonPML"
   ]
  },
  {
   "cell_type": "code",
   "execution_count": 3,
   "metadata": {},
   "outputs": [],
   "source": [
    "##############\n",
    "#Finding the best overbooking level, alpha\n",
    "\n",
    "p = 1\n",
    "c = 1.2\n",
    "T_capacity = 1235000\n",
    "max_prof = 0\n",
    "dscontfac = 0.99\n",
    "Total_cost = 0\n",
    "prof_lst = []\n",
    "for alpha in np.arange(0, 1, 0.01):\n",
    "    revenue = (alpha+1) *T_capacity *p \n",
    "    for time in range(M):\n",
    "        unitcost = 0\n",
    "        for itr in range(n_Trials):\n",
    "            sum_inv = 0\n",
    "            for user in range(N):\n",
    "                sum_inv += y_pred_NonPML[itr,  user, time]\n",
    "            if (1-alpha)*T_capacity < sum_inv:\n",
    "                unitcost += c*(-(1-alpha)*T_capacity + sum_inv)\n",
    "        average_cost= unitcost/n_Trials\n",
    "        discounted_cost = (dscontfac**time) * average_cost\n",
    "        Total_cost += discounted_cost\n",
    "    profit = revenue - Total_cost\n",
    "    prof_lst.append(profit)\n",
    "    if profit > max_prof:\n",
    "        opt_prof = profit\n",
    "        opt_alpha = alpha\n",
    "    \n",
    "\n",
    "config_path = experiment_path + \"/experiment with {} inducing points/alpha.json\".format(num)\n",
    "            \n",
    "overbooking_value = {}\n",
    "overbooking_value['alpha'] = opt_alpha\n",
    "with open(config_path, \"w\") as f:\n",
    "    json.dump(overbooking_value, f)        \n",
    "    "
   ]
  },
  {
   "cell_type": "code",
   "execution_count": 4,
   "metadata": {},
   "outputs": [
    {
     "data": {
      "text/plain": [
       "(-10000000.0, 10000000.0)"
      ]
     },
     "execution_count": 4,
     "metadata": {},
     "output_type": "execute_result"
    },
    {
     "data": {
      "image/png": "[encoded data removed]",
      "text/plain": [
       "<Figure size 432x288 with 1 Axes>"
      ]
     },
     "metadata": {
      "needs_background": "light"
     },
     "output_type": "display_data"
    }
   ],
   "source": [
    "plt.plot(np.arange(0, 1, 0.01), prof_lst)\n",
    "plt.xlabel('$alpha$', fontsize=13)\n",
    "plt.ylabel('$expected profit$', fontsize=13)\n",
    "plt.ylim(-1e7, 1e7)"
   ]
  },
  {
   "cell_type": "code",
   "execution_count": null,
   "metadata": {},
   "outputs": [],
   "source": []
  }
 ],
 "metadata": {
  "kernelspec": {
   "display_name": "Python 3",
   "language": "python",
   "name": "python3"
  },
  "language_info": {
   "codemirror_mode": {
    "name": "ipython",
    "version": 3
   },
   "file_extension": ".py",
   "mimetype": "text/x-python",
   "name": "python",
   "nbconvert_exporter": "python",
   "pygments_lexer": "ipython3",
   "version": "3.6.8"
  }
 },
 "nbformat": 4,
 "nbformat_minor": 2
}
